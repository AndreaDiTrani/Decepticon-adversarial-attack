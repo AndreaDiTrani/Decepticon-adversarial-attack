{
  "cells": [
    {
      "cell_type": "markdown",
      "metadata": {
        "id": "view-in-github",
        "colab_type": "text"
      },
      "source": [
        "<a href=\"https://colab.research.google.com/github/AndreaDiTrani/Decepticon-adversarial-attack/blob/main/JSS.ipynb\" target=\"_parent\"><img src=\"https://colab.research.google.com/assets/colab-badge.svg\" alt=\"Open In Colab\"/></a>"
      ]
    },
    {
      "cell_type": "markdown",
      "metadata": {
        "id": "GIvJ8UEWefRN"
      },
      "source": [
        "In this notebook i tackle the JSS problem from start to finish via quantum annealing.\n",
        "\n",
        "At the moment the workflow is:\n",
        "\n",
        "\n",
        "\n",
        "*   Instance generation\n",
        "*   QUBO fomrulation with timespan discrimination\n",
        "*   ILP via disjunctive formulation\n",
        "*   Pruning\n",
        "*   Default embedding and compilation\n",
        "*   IP embedding\n",
        "*   Template embedding\n",
        "*   Problem solution using quantum annealing on QPU\n",
        "*   Problem solution with GAMA algorithm (not feasible for almost any size)\n",
        "*   Solution visualization\n",
        "\n",
        "Next steps are:\n",
        "\n",
        "*   Fault tolerant Template embedding\n",
        "*   Full application workflow of Template embedding\n",
        "\n",
        "In progress:\n",
        "\n",
        "*   Embedding testing\n",
        "\n"
      ]
    },
    {
      "cell_type": "markdown",
      "metadata": {
        "id": "581y2CJykGXo"
      },
      "source": [
        "#**IMPORTS**"
      ]
    },
    {
      "cell_type": "code",
      "execution_count": 2,
      "metadata": {
        "colab": {
          "base_uri": "https://localhost:8080/"
        },
        "id": "esxgIOGtkBMP",
        "outputId": "664fb09b-9ad9-4e5f-86d2-801f7861c869"
      },
      "outputs": [
        {
          "output_type": "stream",
          "name": "stdout",
          "text": [
            "Collecting dwave-ocean-sdk\n",
            "  Downloading dwave_ocean_sdk-6.4.1-py3-none-any.whl (8.5 kB)\n",
            "Collecting dimod==0.12.6 (from dwave-ocean-sdk)\n",
            "  Downloading dimod-0.12.6-cp310-cp310-manylinux_2_17_x86_64.manylinux2014_x86_64.whl (15.6 MB)\n",
            "\u001b[2K     \u001b[90m━━━━━━━━━━━━━━━━━━━━━━━━━━━━━━━━━━━━━━━━\u001b[0m \u001b[32m15.6/15.6 MB\u001b[0m \u001b[31m76.3 MB/s\u001b[0m eta \u001b[36m0:00:00\u001b[0m\n",
            "\u001b[?25hCollecting dwave-cloud-client==0.10.6 (from dwave-ocean-sdk)\n",
            "  Downloading dwave_cloud_client-0.10.6-py3-none-any.whl (113 kB)\n",
            "\u001b[2K     \u001b[90m━━━━━━━━━━━━━━━━━━━━━━━━━━━━━━━━━━━━━━\u001b[0m \u001b[32m113.4/113.4 kB\u001b[0m \u001b[31m12.0 MB/s\u001b[0m eta \u001b[36m0:00:00\u001b[0m\n",
            "\u001b[?25hCollecting dwave-greedy==0.3.0 (from dwave-ocean-sdk)\n",
            "  Downloading dwave_greedy-0.3.0-py3-none-any.whl (10 kB)\n",
            "Collecting dwave-hybrid==0.6.10 (from dwave-ocean-sdk)\n",
            "  Downloading dwave_hybrid-0.6.10-py3-none-any.whl (74 kB)\n",
            "\u001b[2K     \u001b[90m━━━━━━━━━━━━━━━━━━━━━━━━━━━━━━━━━━━━━━━━\u001b[0m \u001b[32m74.8/74.8 kB\u001b[0m \u001b[31m8.5 MB/s\u001b[0m eta \u001b[36m0:00:00\u001b[0m\n",
            "\u001b[?25hCollecting dwave-inspector==0.4.2 (from dwave-ocean-sdk)\n",
            "  Downloading dwave_inspector-0.4.2-py3-none-any.whl (31 kB)\n",
            "Collecting dwave-neal==0.6.0 (from dwave-ocean-sdk)\n",
            "  Downloading dwave_neal-0.6.0-py3-none-any.whl (8.7 kB)\n",
            "Collecting dwave-networkx==0.8.14 (from dwave-ocean-sdk)\n",
            "  Downloading dwave_networkx-0.8.14-py3-none-any.whl (102 kB)\n",
            "\u001b[2K     \u001b[90m━━━━━━━━━━━━━━━━━━━━━━━━━━━━━━━━━━━━━━\u001b[0m \u001b[32m102.4/102.4 kB\u001b[0m \u001b[31m10.7 MB/s\u001b[0m eta \u001b[36m0:00:00\u001b[0m\n",
            "\u001b[?25hCollecting dwave-preprocessing==0.5.4 (from dwave-ocean-sdk)\n",
            "  Downloading dwave_preprocessing-0.5.4-cp310-cp310-manylinux_2_17_x86_64.manylinux2014_x86_64.whl (3.6 MB)\n",
            "\u001b[2K     \u001b[90m━━━━━━━━━━━━━━━━━━━━━━━━━━━━━━━━━━━━━━━━\u001b[0m \u001b[32m3.6/3.6 MB\u001b[0m \u001b[31m91.5 MB/s\u001b[0m eta \u001b[36m0:00:00\u001b[0m\n",
            "\u001b[?25hCollecting dwave-samplers==1.0.0 (from dwave-ocean-sdk)\n",
            "  Downloading dwave_samplers-1.0.0-cp310-cp310-manylinux_2_17_x86_64.manylinux2014_x86_64.whl (6.0 MB)\n",
            "\u001b[2K     \u001b[90m━━━━━━━━━━━━━━━━━━━━━━━━━━━━━━━━━━━━━━━━\u001b[0m \u001b[32m6.0/6.0 MB\u001b[0m \u001b[31m88.5 MB/s\u001b[0m eta \u001b[36m0:00:00\u001b[0m\n",
            "\u001b[?25hCollecting dwave-system==1.19.0 (from dwave-ocean-sdk)\n",
            "  Downloading dwave_system-1.19.0-py3-none-any.whl (103 kB)\n",
            "\u001b[2K     \u001b[90m━━━━━━━━━━━━━━━━━━━━━━━━━━━━━━━━━━━━━━\u001b[0m \u001b[32m103.2/103.2 kB\u001b[0m \u001b[31m11.3 MB/s\u001b[0m eta \u001b[36m0:00:00\u001b[0m\n",
            "\u001b[?25hCollecting dwave-tabu==0.5.0 (from dwave-ocean-sdk)\n",
            "  Downloading dwave_tabu-0.5.0-py3-none-any.whl (9.2 kB)\n",
            "Collecting dwavebinarycsp==0.2.0 (from dwave-ocean-sdk)\n",
            "  Downloading dwavebinarycsp-0.2.0-py3-none-any.whl (35 kB)\n",
            "Collecting minorminer==0.2.11 (from dwave-ocean-sdk)\n",
            "  Downloading minorminer-0.2.11-cp310-cp310-manylinux_2_17_x86_64.manylinux2014_x86_64.whl (10.1 MB)\n",
            "\u001b[2K     \u001b[90m━━━━━━━━━━━━━━━━━━━━━━━━━━━━━━━━━━━━━━━━\u001b[0m \u001b[32m10.1/10.1 MB\u001b[0m \u001b[31m86.6 MB/s\u001b[0m eta \u001b[36m0:00:00\u001b[0m\n",
            "\u001b[?25hCollecting penaltymodel==1.0.2 (from dwave-ocean-sdk)\n",
            "  Downloading penaltymodel-1.0.2-py3-none-any.whl (36 kB)\n",
            "Collecting pyqubo==1.4.0 (from dwave-ocean-sdk)\n",
            "  Downloading pyqubo-1.4.0-cp310-cp310-manylinux_2_17_x86_64.manylinux2014_x86_64.whl (245 kB)\n",
            "\u001b[2K     \u001b[90m━━━━━━━━━━━━━━━━━━━━━━━━━━━━━━━━━━━━━━\u001b[0m \u001b[32m245.3/245.3 kB\u001b[0m \u001b[31m23.3 MB/s\u001b[0m eta \u001b[36m0:00:00\u001b[0m\n",
            "\u001b[?25hRequirement already satisfied: numpy<2.0.0,>=1.17.3 in /usr/local/lib/python3.10/dist-packages (from dimod==0.12.6->dwave-ocean-sdk) (1.23.5)\n",
            "Requirement already satisfied: requests[socks]>=2.18 in /usr/local/lib/python3.10/dist-packages (from dwave-cloud-client==0.10.6->dwave-ocean-sdk) (2.31.0)\n",
            "Requirement already satisfied: pydantic<2,>=1.7.3 in /usr/local/lib/python3.10/dist-packages (from dwave-cloud-client==0.10.6->dwave-ocean-sdk) (1.10.12)\n",
            "Collecting homebase>=1.0 (from dwave-cloud-client==0.10.6->dwave-ocean-sdk)\n",
            "  Downloading homebase-1.0.1-py2.py3-none-any.whl (11 kB)\n",
            "Requirement already satisfied: click>=7.0 in /usr/local/lib/python3.10/dist-packages (from dwave-cloud-client==0.10.6->dwave-ocean-sdk) (8.1.7)\n",
            "Requirement already satisfied: python-dateutil>=2.7 in /usr/local/lib/python3.10/dist-packages (from dwave-cloud-client==0.10.6->dwave-ocean-sdk) (2.8.2)\n",
            "Collecting plucky>=0.4.3 (from dwave-cloud-client==0.10.6->dwave-ocean-sdk)\n",
            "  Downloading plucky-0.4.3-py2.py3-none-any.whl (10 kB)\n",
            "Collecting diskcache>=5.2.1 (from dwave-cloud-client==0.10.6->dwave-ocean-sdk)\n",
            "  Downloading diskcache-5.6.3-py3-none-any.whl (45 kB)\n",
            "\u001b[2K     \u001b[90m━━━━━━━━━━━━━━━━━━━━━━━━━━━━━━━━━━━━━━━━\u001b[0m \u001b[32m45.5/45.5 kB\u001b[0m \u001b[31m2.3 MB/s\u001b[0m eta \u001b[36m0:00:00\u001b[0m\n",
            "\u001b[?25hRequirement already satisfied: packaging>=19 in /usr/local/lib/python3.10/dist-packages (from dwave-cloud-client==0.10.6->dwave-ocean-sdk) (23.1)\n",
            "Requirement already satisfied: werkzeug>=2.2 in /usr/local/lib/python3.10/dist-packages (from dwave-cloud-client==0.10.6->dwave-ocean-sdk) (2.3.7)\n",
            "Requirement already satisfied: networkx in /usr/local/lib/python3.10/dist-packages (from dwave-hybrid==0.6.10->dwave-ocean-sdk) (3.1)\n",
            "Requirement already satisfied: Flask>=2.2 in /usr/local/lib/python3.10/dist-packages (from dwave-inspector==0.4.2->dwave-ocean-sdk) (2.2.5)\n",
            "Collecting networkx (from dwave-hybrid==0.6.10->dwave-ocean-sdk)\n",
            "  Downloading networkx-2.8.8-py3-none-any.whl (2.0 MB)\n",
            "\u001b[2K     \u001b[90m━━━━━━━━━━━━━━━━━━━━━━━━━━━━━━━━━━━━━━━━\u001b[0m \u001b[32m2.0/2.0 MB\u001b[0m \u001b[31m37.4 MB/s\u001b[0m eta \u001b[36m0:00:00\u001b[0m\n",
            "\u001b[?25hRequirement already satisfied: scipy>=1.7.3 in /usr/local/lib/python3.10/dist-packages (from dwave-system==1.19.0->dwave-ocean-sdk) (1.11.2)\n",
            "Collecting fasteners (from minorminer==0.2.11->dwave-ocean-sdk)\n",
            "  Downloading fasteners-0.18-py3-none-any.whl (18 kB)\n",
            "Collecting rectangle-packer>=2.0.1 (from minorminer==0.2.11->dwave-ocean-sdk)\n",
            "  Downloading rectangle_packer-2.0.1-cp310-cp310-manylinux_2_5_x86_64.manylinux1_x86_64.manylinux_2_17_x86_64.manylinux2014_x86_64.whl (300 kB)\n",
            "\u001b[2K     \u001b[90m━━━━━━━━━━━━━━━━━━━━━━━━━━━━━━━━━━━━━━\u001b[0m \u001b[32m300.8/300.8 kB\u001b[0m \u001b[31m25.3 MB/s\u001b[0m eta \u001b[36m0:00:00\u001b[0m\n",
            "\u001b[?25hCollecting Deprecated>=1.2.12 (from pyqubo==1.4.0->dwave-ocean-sdk)\n",
            "  Downloading Deprecated-1.2.14-py2.py3-none-any.whl (9.6 kB)\n",
            "Requirement already satisfied: six>=1.15.0 in /usr/local/lib/python3.10/dist-packages (from pyqubo==1.4.0->dwave-ocean-sdk) (1.16.0)\n",
            "Requirement already satisfied: wrapt<2,>=1.10 in /usr/local/lib/python3.10/dist-packages (from Deprecated>=1.2.12->pyqubo==1.4.0->dwave-ocean-sdk) (1.15.0)\n",
            "Requirement already satisfied: Jinja2>=3.0 in /usr/local/lib/python3.10/dist-packages (from Flask>=2.2->dwave-inspector==0.4.2->dwave-ocean-sdk) (3.1.2)\n",
            "Requirement already satisfied: itsdangerous>=2.0 in /usr/local/lib/python3.10/dist-packages (from Flask>=2.2->dwave-inspector==0.4.2->dwave-ocean-sdk) (2.1.2)\n",
            "Requirement already satisfied: typing-extensions>=4.2.0 in /usr/local/lib/python3.10/dist-packages (from pydantic<2,>=1.7.3->dwave-cloud-client==0.10.6->dwave-ocean-sdk) (4.5.0)\n",
            "Requirement already satisfied: charset-normalizer<4,>=2 in /usr/local/lib/python3.10/dist-packages (from requests[socks]>=2.18->dwave-cloud-client==0.10.6->dwave-ocean-sdk) (3.2.0)\n",
            "Requirement already satisfied: idna<4,>=2.5 in /usr/local/lib/python3.10/dist-packages (from requests[socks]>=2.18->dwave-cloud-client==0.10.6->dwave-ocean-sdk) (3.4)\n",
            "Requirement already satisfied: urllib3<3,>=1.21.1 in /usr/local/lib/python3.10/dist-packages (from requests[socks]>=2.18->dwave-cloud-client==0.10.6->dwave-ocean-sdk) (2.0.4)\n",
            "Requirement already satisfied: certifi>=2017.4.17 in /usr/local/lib/python3.10/dist-packages (from requests[socks]>=2.18->dwave-cloud-client==0.10.6->dwave-ocean-sdk) (2023.7.22)\n",
            "Requirement already satisfied: PySocks!=1.5.7,>=1.5.6 in /usr/local/lib/python3.10/dist-packages (from requests[socks]>=2.18->dwave-cloud-client==0.10.6->dwave-ocean-sdk) (1.7.1)\n",
            "Requirement already satisfied: MarkupSafe>=2.1.1 in /usr/local/lib/python3.10/dist-packages (from werkzeug>=2.2->dwave-cloud-client==0.10.6->dwave-ocean-sdk) (2.1.3)\n",
            "Installing collected packages: rectangle-packer, plucky, homebase, networkx, fasteners, diskcache, dimod, Deprecated, penaltymodel, dwave-samplers, dwave-preprocessing, dwave-networkx, minorminer, dwavebinarycsp, dwave-tabu, dwave-neal, dwave-greedy, dwave-cloud-client, pyqubo, dwave-system, dwave-inspector, dwave-hybrid, dwave-ocean-sdk\n",
            "  Attempting uninstall: networkx\n",
            "    Found existing installation: networkx 3.1\n",
            "    Uninstalling networkx-3.1:\n",
            "      Successfully uninstalled networkx-3.1\n",
            "Successfully installed Deprecated-1.2.14 dimod-0.12.6 diskcache-5.6.3 dwave-cloud-client-0.10.6 dwave-greedy-0.3.0 dwave-hybrid-0.6.10 dwave-inspector-0.4.2 dwave-neal-0.6.0 dwave-networkx-0.8.14 dwave-ocean-sdk-6.4.1 dwave-preprocessing-0.5.4 dwave-samplers-1.0.0 dwave-system-1.19.0 dwave-tabu-0.5.0 dwavebinarycsp-0.2.0 fasteners-0.18 homebase-1.0.1 minorminer-0.2.11 networkx-2.8.8 penaltymodel-1.0.2 plucky-0.4.3 pyqubo-1.4.0 rectangle-packer-2.0.1\n",
            "Collecting gurobipy\n",
            "  Downloading gurobipy-10.0.3-cp310-cp310-manylinux2014_x86_64.whl (12.7 MB)\n",
            "\u001b[2K     \u001b[90m━━━━━━━━━━━━━━━━━━━━━━━━━━━━━━━━━━━━━━━━\u001b[0m \u001b[32m12.7/12.7 MB\u001b[0m \u001b[31m19.2 MB/s\u001b[0m eta \u001b[36m0:00:00\u001b[0m\n",
            "\u001b[?25hInstalling collected packages: gurobipy\n",
            "Successfully installed gurobipy-10.0.3\n",
            "Requirement already satisfied: pyqubo in /usr/local/lib/python3.10/dist-packages (1.4.0)\n",
            "Requirement already satisfied: numpy>=1.17.3 in /usr/local/lib/python3.10/dist-packages (from pyqubo) (1.23.5)\n",
            "Requirement already satisfied: dimod<0.13,>=0.9.14 in /usr/local/lib/python3.10/dist-packages (from pyqubo) (0.12.6)\n",
            "Requirement already satisfied: dwave-neal>=0.5.7 in /usr/local/lib/python3.10/dist-packages (from pyqubo) (0.6.0)\n",
            "Requirement already satisfied: Deprecated>=1.2.12 in /usr/local/lib/python3.10/dist-packages (from pyqubo) (1.2.14)\n",
            "Requirement already satisfied: six>=1.15.0 in /usr/local/lib/python3.10/dist-packages (from pyqubo) (1.16.0)\n",
            "Requirement already satisfied: wrapt<2,>=1.10 in /usr/local/lib/python3.10/dist-packages (from Deprecated>=1.2.12->pyqubo) (1.15.0)\n",
            "Requirement already satisfied: dwave-samplers<2.0.0,>=1.0.0 in /usr/local/lib/python3.10/dist-packages (from dwave-neal>=0.5.7->pyqubo) (1.0.0)\n",
            "Requirement already satisfied: networkx>=2.4.0 in /usr/local/lib/python3.10/dist-packages (from dwave-samplers<2.0.0,>=1.0.0->dwave-neal>=0.5.7->pyqubo) (2.8.8)\n"
          ]
        }
      ],
      "source": [
        "!pip install dwave-ocean-sdk\n",
        "!pip install gurobipy\n",
        "!pip install pyqubo"
      ]
    },
    {
      "cell_type": "code",
      "execution_count": 57,
      "metadata": {
        "id": "2jhN6kLRkKXn"
      },
      "outputs": [],
      "source": [
        "import networkx as nx\n",
        "import random\n",
        "import pickle\n",
        "import numpy as np\n",
        "import matplotlib\n",
        "import matplotlib.pyplot as plt\n",
        "import pandas as pd\n",
        "import copy\n",
        "import itertools\n",
        "from itertools import product\n",
        "import pickle\n",
        "\n",
        "import pyqubo\n",
        "from pyqubo import Binary, SubH\n",
        "\n",
        "import dimod\n",
        "import dwave\n",
        "import dwave.system\n",
        "import plotly.graph_objects as go\n",
        "import dwave.inspector\n",
        "import minorminer\n",
        "import dwave_networkx as dnx\n",
        "import neal\n",
        "\n",
        "from dwave.embedding import pegasus\n",
        "from dwave.cloud import Client\n",
        "\n",
        "import gurobipy as gb\n",
        "from gurobipy import GRB"
      ]
    },
    {
      "cell_type": "code",
      "execution_count": 58,
      "metadata": {
        "colab": {
          "base_uri": "https://localhost:8080/"
        },
        "id": "Lz2HL6ihkNr5",
        "outputId": "0b2f45e7-76fa-4a57-d44a-959b4b17d392"
      },
      "outputs": [
        {
          "output_type": "stream",
          "name": "stdout",
          "text": [
            "Mounted at /content/drive\n",
            "Set parameter WLSAccessID\n",
            "Set parameter WLSSecret\n",
            "Set parameter LicenseID to value 2381296\n",
            "Academic license - for non-commercial use only - registered to andrea.ditrani@studenti.unipd.it\n"
          ]
        }
      ],
      "source": [
        "from google.colab import drive\n",
        "drive.mount('/content/drive')\n",
        "\n",
        "lic_path = '/content/drive/MyDrive/Uni/' #path to gurobi and D-Wave licenses\n",
        "\n",
        "with open(lic_path + 'gurobi.lic','r') as f:\n",
        "  lic = f.read()\n",
        "\n",
        "ls = lic.split('\\n')\n",
        "access_id = ls[3].split('=')[1]\n",
        "secret = ls[4].split('=')[1]\n",
        "id = int(ls[5].split('=')[1])\n",
        "\n",
        "params = {\n",
        "\"WLSACCESSID\": access_id,\n",
        "\"WLSSECRET\": secret,\n",
        "\"LICENSEID\": id,\n",
        "}\n",
        "env = gb.Env(params=params)\n",
        "\n",
        "client_qpu = Client.from_config(lic_path+'dwave.conf')"
      ]
    },
    {
      "cell_type": "code",
      "execution_count": 4,
      "metadata": {
        "colab": {
          "base_uri": "https://localhost:8080/"
        },
        "id": "1iQUshE1GIE-",
        "outputId": "c8bbd90f-2177-4a70-e665-8541f4955249"
      },
      "outputs": [
        {
          "output_type": "execute_result",
          "data": {
            "text/plain": [
              "[BQMSolver(id='hybrid_binary_quadratic_model_version2'),\n",
              " DQMSolver(id='hybrid_discrete_quadratic_model_version1'),\n",
              " CQMSolver(id='hybrid_constrained_quadratic_model_version1'),\n",
              " StructuredSolver(id='Advantage2_prototype1.1'),\n",
              " StructuredSolver(id='Advantage_system6.2'),\n",
              " StructuredSolver(id='Advantage_system4.1')]"
            ]
          },
          "metadata": {},
          "execution_count": 4
        }
      ],
      "source": [
        "client_qpu.get_solvers()"
      ]
    },
    {
      "cell_type": "markdown",
      "metadata": {
        "id": "dSMqPZFHkUh-"
      },
      "source": [
        "# **JSS**\n",
        "\n"
      ]
    },
    {
      "cell_type": "markdown",
      "metadata": {
        "id": "UMflXl23UwEB"
      },
      "source": [
        "## Disjunctive Formulation (ILP)"
      ]
    },
    {
      "cell_type": "code",
      "execution_count": 3,
      "metadata": {
        "id": "8pE1xoI5DYsz"
      },
      "outputs": [],
      "source": [
        "def ilp_var_dict(instance, model):\n",
        "  dec_dict = {}\n",
        "  bin_dict = {}\n",
        "  slack_dict = {}\n",
        "\n",
        "  n_machines = len(instance[0])\n",
        "  n_jobs = len(instance.keys())-1\n",
        "\n",
        "  V = 0\n",
        "  for j in range(n_jobs):\n",
        "    for o in range(n_machines):\n",
        "      V += instance[j][o][1]\n",
        "\n",
        "  instance['timespan'] = V\n",
        "\n",
        "  for j in range(n_jobs):\n",
        "    for m in range(n_machines):\n",
        "      dec_dict[j,m] = model.addVar(vtype=GRB.INTEGER, name=f'x_{j},{m}')\n",
        "\n",
        "      #slack variable generation\n",
        "      s_idx = len(slack_dict)\n",
        "      slack_dict[s_idx] = model.addVar(vtype=GRB.INTEGER, name=f's_{s_idx}')\n",
        "      #model.addConstr(slack_dict[s_idx] <= V, f'slack_{s_idx}')\n",
        "\n",
        "      model.addConstr(dec_dict[j,m] - slack_dict[s_idx] == 0, f'sign_{j},{m}')\n",
        "\n",
        "      for k in range(n_jobs):\n",
        "        bin_dict[j,k,m] = model.addVar(vtype=GRB.BINARY, name=f'z_{m},{j},{k}')\n",
        "\n",
        "  return dec_dict, bin_dict, slack_dict"
      ]
    },
    {
      "cell_type": "code",
      "execution_count": 4,
      "metadata": {
        "id": "V3A5d-dGWjSk"
      },
      "outputs": [],
      "source": [
        "def prec_const(instance, model, dec_dict, slack_dict):\n",
        "  n_machines = len(instance[0])\n",
        "  n_jobs = len(instance.keys())-1\n",
        "\n",
        "  for j in range(n_jobs):\n",
        "    for o in range(1,n_machines):\n",
        "\n",
        "      m_o = instance[j][o][0] #machine of the o-th operation\n",
        "      m_o_1 = instance[j][o-1][0] #machine of the (o-1)-th operation\n",
        "\n",
        "      p_o_1 = instance[j][o-1][1] #duration of the (o-1)-th operation\n",
        "\n",
        "      s_idx = len(slack_dict)\n",
        "      slack_dict[s_idx] = model.addVar(vtype=GRB.INTEGER, name=f's_{s_idx}')\n",
        "\n",
        "      model.addConstr(dec_dict[j,m_o] - dec_dict[j,m_o_1]  - slack_dict[s_idx] == p_o_1, f'prec_{j},{m_o},{m_o_1}')"
      ]
    },
    {
      "cell_type": "code",
      "execution_count": 5,
      "metadata": {
        "id": "pXzPSc6adYFi"
      },
      "outputs": [],
      "source": [
        "def disj_const(instance, model, dec_dict, bin_dict, slack_dict):\n",
        "  n_machines = len(instance[0])\n",
        "  n_jobs = len(instance.keys())-1\n",
        "  V = instance['timespan']\n",
        "\n",
        "  for j in range(n_jobs):\n",
        "    for k in range(j+1, n_jobs):\n",
        "      for m in range(n_machines):\n",
        "\n",
        "        #search for tasks durations\n",
        "        for i in range(n_machines):\n",
        "          if instance[j][i][0] == m:\n",
        "            p_j = instance[j][i][1]\n",
        "          if instance[k][i][0] == m:\n",
        "            p_k = instance[k][i][1]\n",
        "\n",
        "        s_idx = len(slack_dict)\n",
        "        slack_dict[s_idx] = model.addVar(vtype=GRB.INTEGER, name=f's_{s_idx}')\n",
        "\n",
        "        model.addConstr(dec_dict[j,m] - dec_dict[k,m] + V*bin_dict[j,k,m] - p_k - slack_dict[s_idx] == 0, f'disj_1_{j},{k},{m}')\n",
        "\n",
        "        s_idx = len(slack_dict)\n",
        "        slack_dict[s_idx] = model.addVar(vtype=GRB.INTEGER, name=f's_{s_idx}')\n",
        "\n",
        "        model.addConstr(dec_dict[k,m] - dec_dict[j,m] + V*(1-bin_dict[j,k,m]) - p_j - slack_dict[s_idx] == 0 , f'disj_2_{j},{k},{m}')"
      ]
    },
    {
      "cell_type": "code",
      "execution_count": 6,
      "metadata": {
        "id": "c7cRpngVrI_z"
      },
      "outputs": [],
      "source": [
        "def makespan_cons(instance, model, dec_dict):\n",
        "  C = model.addVar(vtype=GRB.INTEGER, name='C')\n",
        "  n_machines = len(instance[0])\n",
        "  n_jobs = len(instance.keys())-1\n",
        "\n",
        "  for j in range(n_jobs):\n",
        "    last_machine = instance[j][-1][0]\n",
        "    p = instance[j][-1][1]\n",
        "\n",
        "    s_idx = len(slack_dict)\n",
        "    slack_dict[s_idx] = model.addVar(vtype=GRB.INTEGER, name=f's_{s_idx}')\n",
        "\n",
        "    model.addConstr(C - dec_dict[j,last_machine] - p - slack_dict[s_idx] == 0, f'makespan_{j}')\n",
        "\n",
        "  return C"
      ]
    },
    {
      "cell_type": "code",
      "execution_count": 7,
      "metadata": {
        "id": "GX8x3JmvY7u7"
      },
      "outputs": [],
      "source": [
        "def disj_obj(x, obj_arr):\n",
        "  return obj_arr @ x"
      ]
    },
    {
      "cell_type": "code",
      "execution_count": 8,
      "metadata": {
        "id": "RxllgBBLrPkT"
      },
      "outputs": [],
      "source": [
        "def set_model_for_feasible(dec_dict, instance):\n",
        "  n_jobs = len(instance)-1\n",
        "  n_machines = len(instance[0])\n",
        "\n",
        "  last_end = 0\n",
        "  for j in range(n_jobs):\n",
        "    for t_m, t_p in instance[j]:\n",
        "      for m in range(n_machines):\n",
        "        if m == t_m:\n",
        "          dec_dict[j,m].lb = last_end\n",
        "          dec_dict[j,m].ub = last_end\n",
        "          last_end += t_p"
      ]
    },
    {
      "cell_type": "markdown",
      "metadata": {
        "id": "DtdibD6sIvmg"
      },
      "source": [
        "### Graver Basis Extraction"
      ]
    },
    {
      "cell_type": "code",
      "execution_count": 9,
      "metadata": {
        "id": "usV82LhGKqU9"
      },
      "outputs": [],
      "source": [
        "def build_int_encoding(upper_bound_array, lower_bound_array, n, encoding='bin'):\n",
        "\n",
        "  #generate lengths based on the chosen encoding\n",
        "  if encoding == 'bin':\n",
        "    k_arr = np.ceil(np.log2(upper_bound_array+1-lower_bound_array)).astype(np.int64)\n",
        "  else:\n",
        "    k_arr = (upper_bound_array-lower_bound_array).astype(np.int64)\n",
        "\n",
        "  real_upper = copy.copy(upper_bound_array)\n",
        "  E = np.zeros((n, np.sum(k_arr)), dtype=np.int64)\n",
        "  start=0\n",
        "  for j,k in enumerate(k_arr):\n",
        "    if encoding == 'bin':\n",
        "      real_upper[j] = lower_bound_array[j] + 2**k-1\n",
        "    e = np.zeros(k, dtype=np.int64)\n",
        "    for i in range(k):\n",
        "\n",
        "      #apply the selected encoding\n",
        "      if encoding == 'bin':\n",
        "        e[i] = 2**i\n",
        "      else:\n",
        "        e[i] = 1\n",
        "\n",
        "    E[j,start:start+k] = e\n",
        "    start += k\n",
        "\n",
        "  return E, real_upper\n"
      ]
    },
    {
      "cell_type": "code",
      "execution_count": 10,
      "metadata": {
        "id": "sTPhr8WxF0eK"
      },
      "outputs": [],
      "source": [
        "def build_graver_qubo(A, upper_bound_array, lower_bound_array, encoding='bin'):\n",
        "  Q_i = A.T @ A\n",
        "  n = Q_i.shape[0]\n",
        "\n",
        "  E, real_upper = build_int_encoding(upper_bound_array, lower_bound_array, n, encoding=encoding)\n",
        "\n",
        "  graver_qubo = (E.T @ Q_i @ E + np.diag(2*lower_bound_array.T @ Q_i @ E)).astype(np.int64)\n",
        "\n",
        "  return graver_qubo , lower_bound_array @ Q_i @ lower_bound_array, E, real_upper\n"
      ]
    },
    {
      "cell_type": "code",
      "execution_count": 11,
      "metadata": {
        "id": "2052--eZYgaT"
      },
      "outputs": [],
      "source": [
        "def decode_solutions(solutions):\n",
        "\n",
        "  sampleset = {}\n",
        "\n",
        "  for k in solutions:\n",
        "\n",
        "    tmp = {'sample':[], 'energy':[]}\n",
        "\n",
        "    for s in solutions[k]:\n",
        "\n",
        "      new_s = np.zeros(len(s.sample))\n",
        "      for i,x in enumerate(s.sample):\n",
        "        pos = int(x.split('[')[1].split(']')[0])\n",
        "        new_s[pos] = s.sample[x]\n",
        "\n",
        "      tmp['sample'].append(np.array(new_s))\n",
        "      tmp['energy'].append(s.energy)\n",
        "\n",
        "    sampleset[k] = tmp\n",
        "\n",
        "  return sampleset"
      ]
    },
    {
      "cell_type": "code",
      "execution_count": 12,
      "metadata": {
        "id": "eCMMGq_jpTc4"
      },
      "outputs": [],
      "source": [
        "def unencode_sample(lower, E, X):\n",
        "  unencoded_sample = lower + E @ X\n",
        "  return unencoded_sample"
      ]
    },
    {
      "cell_type": "code",
      "execution_count": 13,
      "metadata": {
        "id": "JHPZqCkqZ8rw"
      },
      "outputs": [],
      "source": [
        "def unencode_sampleset(sampleset, lower, E):\n",
        "\n",
        "  for k in sampleset:\n",
        "    for i,s in enumerate(sampleset[k]['sample']):\n",
        "      sampleset[k]['sample'][i] = unencode_sample(lower, E, s)\n",
        "\n",
        "    sampleset[k]['sample'] = np.array(sampleset[k]['sample'])\n"
      ]
    },
    {
      "cell_type": "code",
      "execution_count": 14,
      "metadata": {
        "id": "0yuSorcGTOa8"
      },
      "outputs": [],
      "source": [
        "def filter_lower_energies(dec_sampleset, k=3):\n",
        "\n",
        "  out = {}\n",
        "  for e in range(k):\n",
        "\n",
        "    ls = []\n",
        "\n",
        "    for s in dec_sampleset:\n",
        "      if s.energy == e:\n",
        "        ls.append(s)\n",
        "\n",
        "    out[e] = ls\n",
        "\n",
        "  return out"
      ]
    },
    {
      "cell_type": "code",
      "execution_count": 15,
      "metadata": {
        "id": "F0_0qtvZB5Sb"
      },
      "outputs": [],
      "source": [
        "def filter_graver(unencoded_samples):\n",
        "  rm_list = []\n",
        "  rm_idx = set()\n",
        "  #start by removing every 0 and every opposite solutions (s1 == -s2)\n",
        "  for s1,s2 in list(itertools.combinations(unencoded_samples, 2)):\n",
        "    #if all(s1 == -s2):\n",
        "    #  rm_list.append(s2)\n",
        "    if all(s1 == 0):\n",
        "      rm_list.append(s1)\n",
        "\n",
        "  rm_list = np.unique(np.array(rm_list), axis = 0)\n",
        "  tmp = np.zeros(( unencoded_samples.shape[0] - rm_list.shape[0]  , unencoded_samples.shape[1]  ))\n",
        "  i = 0\n",
        "  for s in unencoded_samples:\n",
        "    inv = False\n",
        "    for r in rm_list:\n",
        "      if all(s == r):\n",
        "        inv = True\n",
        "    if not inv:\n",
        "      tmp[i] = s\n",
        "      i += 1\n",
        "\n",
        "  #remove the non conformal solutions or (-s1@s2 > 0)\n",
        "  unencoded_samples = tmp[:i]\n",
        "  rm_list = []\n",
        "  rm_idx = set()\n",
        "\n",
        "  for s1 in unencoded_samples:\n",
        "    for s2 in unencoded_samples:\n",
        "      if any(s1 != s2):\n",
        "        if ((s1@s2 > 0) ) and all(np.abs(s1) <= np.abs(s2) ):\n",
        "          rm_list.append(s2)\n",
        "\n",
        "  for i in range(len(rm_list)):\n",
        "    for j in range(len(unencoded_samples)):\n",
        "\n",
        "      if all(rm_list[i] == unencoded_samples[j]):\n",
        "        rm_idx.add(j)\n",
        "  #list( set(range(len(unencoded_samples))) - rm_idx )\n",
        "\n",
        "  out = unencoded_samples[list( set(range(len(unencoded_samples))) - rm_idx )]\n",
        "\n",
        "  return  np.unique(out, axis=0)"
      ]
    },
    {
      "cell_type": "code",
      "execution_count": 16,
      "metadata": {
        "id": "q0MYzdpJ9hwA"
      },
      "outputs": [],
      "source": [
        "def adapt_range(solutions, real_upper_bound_array, lower_bound_array):\n",
        "  new_upper = copy.copy(real_upper_bound_array)\n",
        "  new_lower = copy.copy(lower_bound_array)\n",
        "\n",
        "  max_values = np.max(solutions, axis=0)\n",
        "  min_values = np.min(solutions, axis=0)\n",
        "\n",
        "  for i in range(len(max_values)):\n",
        "    if max_values[i] < real_upper_bound_array[i]:\n",
        "      new_upper[i] -= 1\n",
        "    else:\n",
        "      new_upper[i] += 1\n",
        "\n",
        "    if min_values[i] > lower_bound_array[i]:\n",
        "      new_lower[i] += 1\n",
        "    else:\n",
        "      new_lower[i] -= 1\n",
        "\n",
        "  return new_upper, new_lower\n"
      ]
    },
    {
      "cell_type": "code",
      "execution_count": 17,
      "metadata": {
        "id": "J56fGgyk4YAJ"
      },
      "outputs": [],
      "source": [
        "#APPROACH DISCARDED\n",
        "\n",
        "def sample_graver_cqm(A, sampler, time_limit):\n",
        "  Q = A.T @ A\n",
        "\n",
        "  qm = dimod.QuadraticModel()\n",
        "\n",
        "  for i in range(Q.shape[0]):\n",
        "    qm.add_variable('INTEGER', f'x[{i}]', lower_bound = -2,upper_bound =  2)\n",
        "\n",
        "  #this step is needed to easily obtain the dictionary of the interactions\n",
        "  X = pyqubo.Array.create('x', shape=Q.shape[0], vartype='BINARY')\n",
        "  exp = X.T @ Q @ X\n",
        "  m = exp.compile()\n",
        "  bqm = m.to_qubo()\n",
        "\n",
        "  qm.add_quadratic_from(bqm[0])\n",
        "\n",
        "  #convert to CQM (for reasons DWave's solvers can't deal with QM)\n",
        "  cqm = dimod.ConstrainedQuadraticModel().from_bqm(qm)\n",
        "\n",
        "  sampleset = sampler.sample_cqm(cqm, time_limit=time_limit)\n",
        "\n",
        "  return sampleset"
      ]
    },
    {
      "cell_type": "code",
      "execution_count": 18,
      "metadata": {
        "id": "bCAEhWl_5cmj"
      },
      "outputs": [],
      "source": [
        "def post_process_no_sols(A, no_sols, k=1):\n",
        "\n",
        "  error_arr = A @ no_sols.T\n",
        "  ops = {}\n",
        "\n",
        "  #Track all operations between (+k) and (-k) errors\n",
        "  for r in range(error_arr.shape[0]):\n",
        "    plus_idx = []\n",
        "    minus_idx = []\n",
        "    for c in range(error_arr.shape[1]):\n",
        "\n",
        "      # identify (+) columns and (-) columns\n",
        "      if error_arr[r,c] == k:\n",
        "        plus_idx.append(c)\n",
        "      elif error_arr[r,c] == -k:\n",
        "        minus_idx.append(c)\n",
        "\n",
        "    #store pairwise subtraction on (+)\n",
        "    plus_sub = set()\n",
        "    for p in plus_idx:\n",
        "      for p1 in set(plus_idx) - {p}:\n",
        "        plus_sub.add(frozenset((p,p1)))\n",
        "    #store pairwise subtraction on (-)\n",
        "    minus_sub = set()\n",
        "    for m in minus_idx:\n",
        "      for m1 in set(minus_idx) - {m}:\n",
        "        minus_sub.add(frozenset((m,m1)))\n",
        "    #store summation between (+) and (-)\n",
        "    mp_add = set()\n",
        "    for m in minus_idx:\n",
        "      for p in plus_idx:\n",
        "        if (p,m) not in mp_add:\n",
        "          mp_add.add((m,p))\n",
        "    #store operations for the r-th row\n",
        "    ops[r] = (plus_sub,minus_sub,mp_add)\n",
        "\n",
        "  #compute the number of operations for storage\n",
        "  total_ops = 0\n",
        "  for i in range(len(ops)):\n",
        "    for sub in ops[i]:\n",
        "      total_ops += len(sub)\n",
        "  new_sols = np.zeros((total_ops,no_sols.shape[1]))\n",
        "\n",
        "  #execute all operations and return the new solutions\n",
        "  i = 0\n",
        "  for r in ops:\n",
        "    for sgn in range(2):\n",
        "      for op in ops[r][sgn]:\n",
        "        l_op = list(op)\n",
        "        new_sols[i] = no_sols[l_op[0]] - no_sols[l_op[1]]\n",
        "        i +=1\n",
        "\n",
        "    for op in ops[r][2]:\n",
        "      l_op = list(op)\n",
        "      new_sols[i] = no_sols[l_op[0]] + no_sols[l_op[1]]\n",
        "      i +=1\n",
        "\n",
        "  #Second case for k>1\n",
        "\n",
        "  for a in range(1,k):\n",
        "    b = k-a\n",
        "    ab_idx = []\n",
        "    anb_idx = []\n",
        "    nab_idx = []\n",
        "    nanb_idx = []\n",
        "    #create groups\n",
        "    for c in range(error_arr.shape[1]):\n",
        "      for r1 in range(error_arr.shape[0]):\n",
        "        for r2 in range(r1+1,error_arr.shape[0]):\n",
        "          if (error_arr[r1,c] == a) and (error_arr[r2,c] == b):\n",
        "            ab_idx.append(c)\n",
        "          if (error_arr[r1,c] == a) and (error_arr[r2,c] == -b):\n",
        "            anb_idx.append(c)\n",
        "          if (error_arr[r1,c] == -a) and (error_arr[r2,c] == -b):\n",
        "            nanb_idx.append(c)\n",
        "          if (error_arr[r1,c] == -a) and (error_arr[r2,c] == b):\n",
        "            nab_idx.append(c)\n",
        "    #compute optimal solutions\n",
        "\n",
        "    pnew_sols = np.zeros((1,no_sols.shape[1]))\n",
        "    i=0\n",
        "    for c1 in ab_idx:\n",
        "      for c2 in set(ab_idx)-{c1}:\n",
        "        pnew_sols = np.append(pnew_sols, np.expand_dims((no_sols[c1] - no_sols[c2]), 0), axis = 0)\n",
        "        i += 1\n",
        "    for c1 in nab_idx:\n",
        "      for c2 in set(nab_idx)-{c1}:\n",
        "        pnew_sols = np.append(pnew_sols, np.expand_dims((no_sols[c1] - no_sols[c2]), 0), axis = 0)\n",
        "        i += 1\n",
        "    for c1 in anb_idx:\n",
        "      for c2 in set(anb_idx)-{c1}:\n",
        "        pnew_sols = np.append(pnew_sols, np.expand_dims((no_sols[c1] - no_sols[c2]), 0), axis = 0)\n",
        "        i += 1\n",
        "    for c1 in nanb_idx:\n",
        "      for c2 in set(nanb_idx)-{c1}:\n",
        "        pnew_sols = np.append(pnew_sols, np.expand_dims((no_sols[c1] - no_sols[c2]), 0), axis = 0)\n",
        "        i += 1\n",
        "    new_sols = np.append(new_sols, pnew_sols[1:], axis=0)\n",
        "\n",
        "  return new_sols"
      ]
    },
    {
      "cell_type": "code",
      "execution_count": 19,
      "metadata": {
        "id": "IeBKZzY1bdU9"
      },
      "outputs": [],
      "source": [
        "def graver_augmentation(basis, x_0, obj_fun, obj_arg):\n",
        "  x = x_0\n",
        "  lower = True\n",
        "  nonzero = True\n",
        "  print(f'Starting value: {obj_fun(x, obj_arg)}')\n",
        "  while lower and nonzero:\n",
        "    lower = False\n",
        "    for i,b in enumerate(basis):\n",
        "      if np.all(obj_arg != None):\n",
        "        if np.all(x+b >= 0):\n",
        "          if obj_fun(x+b, obj_arg) < obj_fun(x, obj_arg):\n",
        "            print(f'current objective: {obj_fun(x+b, obj_arg)}')\n",
        "            x = x + b\n",
        "            lower = True\n",
        "        if np.all(x-b >= 0):\n",
        "          if obj_fun(x-b, obj_arg) < obj_fun(x, obj_arg):\n",
        "            print(f'current objective: {obj_fun(x-b, obj_arg)}')\n",
        "            x = x - b\n",
        "            lower = True\n",
        "      else:\n",
        "        if obj_fun(x+b) < obj_fun(x):\n",
        "          x = x + b\n",
        "          lower = True\n",
        "\n",
        "  return x"
      ]
    },
    {
      "cell_type": "markdown",
      "metadata": {
        "id": "EkT-6JgdUee_"
      },
      "source": [
        "## Time-Indexing Formulation(QUBO)"
      ]
    },
    {
      "cell_type": "code",
      "execution_count": 20,
      "metadata": {
        "id": "h-JqPlNDkivM"
      },
      "outputs": [],
      "source": [
        "def qubo_var_dict(instance):\n",
        "  var_dict = {}\n",
        "\n",
        "  n_machines = len(instance[0])\n",
        "  n_jobs = len(instance.keys())-1\n",
        "  timespan = instance['timespan']\n",
        "\n",
        "  for j in range(n_jobs):\n",
        "      for o in range(n_machines):\n",
        "        for t in range(timespan):\n",
        "          var_dict[(o,j,t)] = pyqubo.Binary((f'x_{o},{j},{t}')) #o=order position, j=relative job, t=time\n",
        "  return var_dict"
      ]
    },
    {
      "cell_type": "markdown",
      "metadata": {
        "id": "lMq_BGMMkn9_"
      },
      "source": [
        "### Penalties"
      ]
    },
    {
      "cell_type": "markdown",
      "metadata": {
        "id": "9wOThIkeCw7m"
      },
      "source": [
        "This function generates penalty relative to the **START ONLY ONCE** constraint.\n",
        "\n",
        "The mathematical formulation of this constraint is:\n",
        "$$ \\sum_i(\\sum_t x_{i,t} -1)^2 $$\n",
        "\n",
        "And so we have an edge for every pair $x_{i,t}, x_{i,p}$ where $p \\neq t$\n",
        "\n",
        "This kind of edges are orange in the final plots"
      ]
    },
    {
      "cell_type": "code",
      "execution_count": 21,
      "metadata": {
        "id": "xQkMxNrFks7-"
      },
      "outputs": [],
      "source": [
        "def soo_cons(instance, var_dict):\n",
        "  tot = 0\n",
        "  n_machines = len(instance[0])\n",
        "  n_jobs = len(instance.keys())-1\n",
        "  timespan = instance['timespan']\n",
        "\n",
        "  for j in range(n_jobs): #relative job\n",
        "    for o in range(n_machines): #order position\n",
        "      part = 0\n",
        "      for t in range(timespan):\n",
        "        part += var_dict[o,j,t]\n",
        "      part = (part - 1)**2\n",
        "      tot += part\n",
        "  return tot"
      ]
    },
    {
      "cell_type": "markdown",
      "metadata": {
        "id": "uFA7Iop-Cy-d"
      },
      "source": [
        "This function generates the edges relative to the **OPERATION ORDER** constraint.\n",
        "\n",
        "The mathematical formulation of this constraint is:\n",
        "\n",
        "$$ \\sum_{ k_{n-1}<i<k_n \\atop t+p_i > t'}  x_{i,t}x_{i+1,t'}$$"
      ]
    },
    {
      "cell_type": "code",
      "execution_count": 22,
      "metadata": {
        "id": "sz1NpYyHlVfu"
      },
      "outputs": [],
      "source": [
        "def oo_cons(instance, var_dict):\n",
        "  n_machines = len(instance[0])\n",
        "  n_jobs = len(instance.keys())-1\n",
        "  timespan = instance['timespan']\n",
        "\n",
        "  tot=0\n",
        "  for job in range(n_jobs):#relative job\n",
        "    for o in range(n_machines-1): #order position\n",
        "      task = instance[job][o]\n",
        "      p = task[1] #duration\n",
        "\n",
        "      for t in range(timespan):\n",
        "        t_max = min(t + p, timespan)\n",
        "        for t_p in range(t_max):\n",
        "\n",
        "          #m_p = task_p[0]\n",
        "\n",
        "          tot += var_dict[o,job,t]*var_dict[o+1,job,t_p]\n",
        "  return tot"
      ]
    },
    {
      "cell_type": "markdown",
      "metadata": {
        "id": "RJvVJtXKC2_5"
      },
      "source": [
        "This set of functions generates the edges relative to the **ONE AT TIME PER MACHINE** constraint.\n",
        "\n",
        "The mathematical formulation of this constraint is:\n",
        "$$\\sum_{(i,t,k,t')\\in R_m} x_{i,t}x_{k,t'} $$\n",
        "\n",
        "where $R_m = A_m \\cup B_m$\n",
        "\n",
        "And $A_m = \\{(i,t,k,t'): (i,k) \\in I_M \\times I_M, \\\\ \\qquad \\qquad i \\neq j,\\\\ \\qquad \\qquad 0\\leq t,\\\\ \\qquad \\qquad t'\\leq T,\\\\ \\qquad \\qquad 0<t'-t<p_i  \\}$\n",
        "\n",
        "where $I_M$ is the set of all tasks that need the machine M to run."
      ]
    },
    {
      "cell_type": "code",
      "execution_count": 23,
      "metadata": {
        "id": "4s93HdAlocYB"
      },
      "outputs": [],
      "source": [
        "def I_set(instance,m):\n",
        "    n_machines = len(instance[0])\n",
        "    n_jobs = len(instance.keys())-1\n",
        "    timespan = instance['timespan']\n",
        "\n",
        "    I_m = set()\n",
        "    for job in range(n_jobs):\n",
        "        for o,task in enumerate(instance[job]):\n",
        "            if task[0] == m:\n",
        "                I_m.add((o,job))\n",
        "\n",
        "    I_mx = set(product(I_m, repeat=2))\n",
        "\n",
        "    rm_list = []\n",
        "    for e in I_mx:\n",
        "        if e[0] == e[1]:\n",
        "            rm_list.append(e)\n",
        "    for r in rm_list:\n",
        "        I_mx.remove(r)\n",
        "\n",
        "    return I_mx"
      ]
    },
    {
      "cell_type": "code",
      "execution_count": 24,
      "metadata": {
        "id": "C0nNx_XyrWuO"
      },
      "outputs": [],
      "source": [
        "def A_set(instance, m):\n",
        "  n_machines = len(instance[0])\n",
        "  n_jobs = len(instance.keys())-1\n",
        "  timespan = instance['timespan']\n",
        "\n",
        "  I_mx = I_set(instance, m)\n",
        "\n",
        "  A_m = set()\n",
        "\n",
        "  for e in I_mx: #e = ((o1,j1),(o2,j2))\n",
        "\n",
        "    job = e[0][1]\n",
        "    for t in instance[job]:\n",
        "      if t[0] == m:\n",
        "        p = t[1] #duration task position i\n",
        "\n",
        "    for t in range(timespan):\n",
        "      for t_p in range(timespan):\n",
        "        if (0<t_p - t) and (t_p-t<p):\n",
        "          new_el = ((e[0][0], e[0][1], t), (e[1][0], e[1][1], t_p))\n",
        "          A_m.add(new_el)\n",
        "  return A_m"
      ]
    },
    {
      "cell_type": "code",
      "execution_count": 25,
      "metadata": {
        "id": "7FR9agpfu_6k"
      },
      "outputs": [],
      "source": [
        "def B_set(instance, m):\n",
        "  n_machines = len(instance[0])\n",
        "  n_jobs = len(instance.keys())-1\n",
        "  timespan = instance['timespan']\n",
        "\n",
        "  I_mx = I_set(instance, m)\n",
        "\n",
        "  B_m = set()\n",
        "\n",
        "  for e in I_mx:\n",
        "    job_i = e[0][1]\n",
        "\n",
        "    for i,t in enumerate(instance[job_i]):\n",
        "      if t[0] == m:\n",
        "        p_i = t[1] #duration\n",
        "        o_i = i\n",
        "\n",
        "    job_j = e[0][1]\n",
        "\n",
        "    for i,t in enumerate(instance[job_i]):\n",
        "      if t[0] == m:\n",
        "        p_j = t[1] #duration\n",
        "        o_j = i\n",
        "\n",
        "\n",
        "    if p_j > 0 and p_i>0:\n",
        "      for t in range(timespan):\n",
        "        new_el = ((e[0][0], e[0][1], t), (e[1][0], e[1][1], t))\n",
        "        B_m.add(new_el)\n",
        "\n",
        "  return B_m"
      ]
    },
    {
      "cell_type": "code",
      "execution_count": 26,
      "metadata": {
        "id": "nrgnD76Or_bj"
      },
      "outputs": [],
      "source": [
        "def otm_cons(instance, var_dict):\n",
        "  n_machines = len(instance[0])\n",
        "  n_jobs = len(instance.keys())-1\n",
        "  timespan = instance['timespan']\n",
        "  edges = []\n",
        "  tot = 0\n",
        "  for m in range(n_machines):\n",
        "      R_m = A_set(instance, m).union(B_set(instance, m))\n",
        "      for e in R_m:\n",
        "        tot += var_dict[e[0]]*var_dict[e[1]]\n",
        "  return tot\n"
      ]
    },
    {
      "cell_type": "markdown",
      "metadata": {
        "id": "2irh9xeNDXHr"
      },
      "source": [
        "###Pruning"
      ]
    },
    {
      "cell_type": "markdown",
      "metadata": {
        "id": "kZHXzS-TDWP4"
      },
      "source": [
        "Let $I_j$ be the set of indices of tasks that have to run on the machine $j$ then,\n",
        "if $a,b \\in I_j$ are such that:\n",
        "$$r_a+p_a+p_b+q_b>T$$\n",
        "where $r_i$ is the sum of the execution time of the tasks preceding $O_i$ and $q_i$ is similarly defined for the tasks that follows $O_i$, those values are called **head and tail** of the task.\n",
        "\n",
        "Then $O_a$ must be run after $O_b$ and we can update $r_a$ as:\n",
        "$$r_a = max\\{r_a,r_b+p_b\\}$$\n",
        "\n",
        "Thanks to the symmetry of the problem, similar updates can be performed to the tails."
      ]
    },
    {
      "cell_type": "code",
      "execution_count": 27,
      "metadata": {
        "id": "pKKZZrmxwo64"
      },
      "outputs": [],
      "source": [
        "def simple_pruning(instance,var_dict):\n",
        "  n_machines = len(instance[0])\n",
        "  n_jobs = len(instance.keys())-1\n",
        "  timespan = instance['timespan']\n",
        "  ext_instance = copy.deepcopy(instance) #this extended instance will contain also the head and tail of each operation\n",
        "\n",
        "  #head and tail comp\n",
        "  for job in range(n_jobs):\n",
        "    for t_idx,task in enumerate(instance[job]):\n",
        "      p_task = task[1]\n",
        "      m_task = task[0]\n",
        "      #single job upperbound\n",
        "      tail = timespan\n",
        "      for i in range(t_idx, n_machines):\n",
        "        tail -= instance[job][i][1]\n",
        "\n",
        "      #single job lowerbuond\n",
        "      head = 0\n",
        "      for i in range(t_idx):\n",
        "        head += instance[job][i][1]\n",
        "\n",
        "      ext_instance[job][t_idx] += (head,tail)\n",
        "\n",
        "  tmp_instance = copy.deepcopy(ext_instance)\n",
        "  ext_instance = tmp_instance\n",
        "\n",
        "  #node removal\n",
        "  rm_nodes = []\n",
        "  for job in range(n_jobs):\n",
        "    for o,task in enumerate(ext_instance[job]):\n",
        "      for node in var_dict:\n",
        "        if (node[0] == o) and (node[1] == job) and ((node[2] < task[2] ) or (node[2] > task[3])):\n",
        "          var_dict[node] = 0\n",
        "\n",
        "  return var_dict, ext_instance"
      ]
    },
    {
      "cell_type": "markdown",
      "metadata": {
        "id": "pZf6F0b9Xjix"
      },
      "source": [
        "### Timespan Discrimination"
      ]
    },
    {
      "cell_type": "code",
      "execution_count": 28,
      "metadata": {
        "id": "6GQewEvJfWiu"
      },
      "outputs": [],
      "source": [
        "def timespan_dis(instance, var_dict, K=1, energy_array=[0.5]):\n",
        "  n_machines = len(instance[0])\n",
        "  n_jobs = len(instance.keys())-1\n",
        "  timespan = instance['timespan']\n",
        "\n",
        "  temp_dict = copy.copy(var_dict)\n",
        "\n",
        "  tot=0\n",
        "  for k in range(K):\n",
        "    for j in range(n_jobs):\n",
        "      found=False\n",
        "      for i in range(timespan):\n",
        "        triplet = (n_machines-1, j, timespan-k-i-1)                             #check the latest moment avaible for the start of the last operation,\n",
        "        if (triplet in temp_dict and                                            #avaible for the start of the last operation, needed in case of pruning\n",
        "            type(temp_dict[triplet]) is not int and\n",
        "            not found):\n",
        "          tot += energy_array[k]*temp_dict[n_machines-1, j, timespan-k-i-1]\n",
        "          found = True\n",
        "          temp_dict[triplet] = 0\n",
        "\n",
        "\n",
        "  return tot\n"
      ]
    },
    {
      "cell_type": "markdown",
      "metadata": {
        "id": "g883I1l2DbN3"
      },
      "source": [
        "## Utils"
      ]
    },
    {
      "cell_type": "code",
      "source": [
        "def draw_solution(solution, instance, formulation='time'):\n",
        "  cmap_nodes = matplotlib.colormaps.get_cmap('viridis')\n",
        "  color_array = np.zeros((1,4))\n",
        "  n_jobs = len(instance)-1\n",
        "\n",
        "  fig, ax = plt.subplots()\n",
        "  fig.set_size_inches(20, 10)\n",
        "\n",
        "  y_ticks = []\n",
        "  n_machines = len(instance[0])\n",
        "  timespan = instance['timespan']\n",
        "  for i in range(n_machines):\n",
        "    y_ticks.append(f'M {i}')\n",
        "\n",
        "  ax.set_yticks(range(n_machines), labels=y_ticks)\n",
        "\n",
        "  end = 0\n",
        "  x_ticks = []\n",
        "  if formulation == 'time':\n",
        "    for i,var in enumerate(solution):\n",
        "      if solution[var] == 1:\n",
        "        spl = var.split('_')[1].split(',')\n",
        "        order = int(spl[0])\n",
        "        job = int(spl[1])\n",
        "        start = int(spl[2])\n",
        "\n",
        "        x_ticks.append(start)\n",
        "        color_array[0] = cmap_nodes(job/n_jobs)\n",
        "\n",
        "        machine = instance[job][order][0]\n",
        "        duration = instance[job][order][1]\n",
        "\n",
        "        if start + duration > end:\n",
        "          end = start + duration\n",
        "\n",
        "        bar = ax.barh(machine, width=duration, left=start, color=color_array)\n",
        "        ax.bar_label(bar, label_type='center', labels=[f'J {job}, O {order}'])\n",
        "\n",
        "  else:\n",
        "    for i, var in enumerate(solution):\n",
        "      var_name = var\n",
        "      if 'x_' in var_name:\n",
        "        spl = var_name.split('_')[1].split(',')\n",
        "        job = int(spl[0])\n",
        "        machine = int(spl[1])\n",
        "        start = solution[var]\n",
        "        x_ticks.append(start)\n",
        "        color_array[0] = cmap_nodes(job/n_jobs)\n",
        "\n",
        "        for o,t in enumerate(instance[job]):\n",
        "          if t[0] == machine:\n",
        "            duration = t[1]\n",
        "            order = o\n",
        "\n",
        "        if start + duration > end:\n",
        "            end = start + duration\n",
        "        bar = ax.barh(machine, width=duration, left=start, color=color_array)\n",
        "        ax.bar_label(bar, label_type='center', labels=[f'J {job}, O {order}'])"
      ],
      "metadata": {
        "id": "3SHuPcaYJgFj"
      },
      "execution_count": 29,
      "outputs": []
    },
    {
      "cell_type": "code",
      "source": [
        "def generate_vis_dict(instance, graph):\n",
        "  pos_dict = {}\n",
        "  label_dict = {}\n",
        "\n",
        "  for node in graph.nodes:\n",
        "    ojt = [int(x) for x in node.split('_')[1].split(',')] #var info extracted from name\n",
        "    m = instance[ojt[1]][ojt[0]][0] #machine of the task\n",
        "    timespan = instance['timespan']\n",
        "\n",
        "    x = 1/4*ojt[1] + m\n",
        "    y = (timespan - ojt[2])/3\n",
        "    pos_dict[node] = (x,y)\n",
        "\n",
        "    label_dict[node] = ojt[0]\n",
        "  return pos_dict, label_dict\n"
      ],
      "metadata": {
        "id": "JBZrMPN4vdSn"
      },
      "execution_count": 30,
      "outputs": []
    },
    {
      "cell_type": "code",
      "execution_count": 31,
      "metadata": {
        "id": "iFyCBM4KkcE5"
      },
      "outputs": [],
      "source": [
        "def generate_random_instance(n_machine, n_job, max_duration, timespan):\n",
        "\n",
        "  instance = {}\n",
        "  machine_list = list(range(n_machine))\n",
        "\n",
        "  for i in range(n_job):\n",
        "    random.shuffle(machine_list)\n",
        "    instance[i] = []\n",
        "    for j in range(n_machine):\n",
        "      instance[i].append((machine_list[j], random.randint(1,max_duration))) #machine, duration\n",
        "  instance['timespan'] = timespan\n",
        "\n",
        "  return instance"
      ]
    },
    {
      "cell_type": "code",
      "execution_count": 32,
      "metadata": {
        "id": "OciPcje4f4SW"
      },
      "outputs": [],
      "source": [
        "def instance_from_file(path, timespan):\n",
        "\n",
        "  instance = {}\n",
        "  instance['timespan'] = timespan\n",
        "  with open(path, 'r') as f:\n",
        "    lines = f.readlines()\n",
        "\n",
        "  print([int(x) for x in lines[-1].replace(' \\n', '').split('\\t')])\n",
        "  ls = [int(x) for x in lines[0].replace(' \\n', '').split('\\t')]\n",
        "\n",
        "  n_jobs = ls[0]\n",
        "  print(n_jobs)\n",
        "  n_machines = ls[1]\n",
        "\n",
        "  for j in range(1,n_jobs+1):\n",
        "    instance[j-1] = []\n",
        "    ls = [int(x) for x in lines[j].replace(' \\n', '').split('\\t')]\n",
        "    for o in range(n_machines):\n",
        "      instance[j-1].append([ls[2*o],ls[2*o+1]])\n",
        "  return instance"
      ]
    },
    {
      "cell_type": "markdown",
      "source": [
        "# **Embedding**"
      ],
      "metadata": {
        "id": "untE_syU9l5m"
      }
    },
    {
      "cell_type": "markdown",
      "source": [
        "## Utils"
      ],
      "metadata": {
        "id": "AIA_GM2xAVgQ"
      }
    },
    {
      "cell_type": "code",
      "source": [
        "def validate_embedding(embedding, target, graph):\n",
        "\n",
        "\n",
        "  target_edges = list(target.edges)\n",
        "  edge_valid = True\n",
        "  node_valid = True\n",
        "  used_target_nodes = []\n",
        "  for node in graph.nodes:\n",
        "\n",
        "    #edges validation (for every edge (y_1,y_2) there must be an edge\n",
        "    #(chain(y_1), chain(y_2)) in the target\n",
        "    neighbors = list(graph.neighbors(node))\n",
        "    chain_node = embedding[node]\n",
        "    if len(neighbors) > 0:\n",
        "      edge_valid = False\n",
        "      for neig in neighbors:\n",
        "        chain_neig = embedding[neig]\n",
        "        for x1 in chain_node:\n",
        "          for x2 in chain_neig:\n",
        "            if (x1,x2) in target_edges or (x2,x1) in target_edges:\n",
        "              edge_valid = True\n",
        "        if not edge_valid:\n",
        "          print(f'edge ({node},{neig}) not valid')\n",
        "\n",
        "    #check that every chain is made of different nodes\n",
        "    for n in chain_node:\n",
        "      if n in used_target_nodes:\n",
        "        node_valid = False\n",
        "      else:\n",
        "        used_target_nodes.append(n)\n",
        "\n",
        "    #if the node embedding is not valid return false\n",
        "    if not edge_valid or not node_valid:\n",
        "      return edge_valid, node_valid\n",
        "\n",
        "  return edge_valid, node_valid"
      ],
      "metadata": {
        "id": "M3CHuaoKJ0h_"
      },
      "execution_count": 33,
      "outputs": []
    },
    {
      "cell_type": "code",
      "source": [
        "def default_embedding(target, graph):\n",
        "  embedding = minorminer.find_embedding(graph, target)\n",
        "\n",
        "  if len(embedding.keys()) == 0:\n",
        "    return False, -1,-1\n",
        "\n",
        "  else:\n",
        "      e_size = 0\n",
        "      max_chain = 1\n",
        "\n",
        "      for k in embedding:\n",
        "          e_size += len(embedding[k])\n",
        "          if len(embedding[k]) > max_chain:\n",
        "              max_chain = len(embedding[k])\n",
        "  #print(embedding)\n",
        "  #final = postprocess_embed_name(embedding)\n",
        "\n",
        "  return embedding, e_size, max_chain"
      ],
      "metadata": {
        "id": "UGyBTWZxBGt7"
      },
      "execution_count": 34,
      "outputs": []
    },
    {
      "cell_type": "code",
      "source": [
        "def default_embedding_iter(target, graph, n_iter=100):\n",
        "  sizes = {}\n",
        "  max_chain = {}\n",
        "\n",
        "  min_size = len(list(target.nodes))\n",
        "  min_chain = min_size\n",
        "  smallest_embedding = None\n",
        "\n",
        "  for i in range(n_iter):\n",
        "    embedding, size, max = default_embedding(target, graph)\n",
        "    if size in sizes and size > 0:\n",
        "      sizes[size] += 1\n",
        "    elif size > 0:\n",
        "      sizes[size] = 1\n",
        "\n",
        "    if max in max_chain and max > 0:\n",
        "      max_chain[max] += 1\n",
        "    elif max > 0:\n",
        "      max_chain[max] = 1\n",
        "\n",
        "    if size == min_size:\n",
        "      if max < min_chain:\n",
        "        smallest_embedding = embedding\n",
        "        min_size = size\n",
        "        min_chain = max\n",
        "    elif size < min_size:\n",
        "      smallest_embedding = embedding\n",
        "      min_size = size\n",
        "\n",
        "  return smallest_embedding, sizes, max_chain"
      ],
      "metadata": {
        "id": "FTacz_ejFHzG"
      },
      "execution_count": 35,
      "outputs": []
    },
    {
      "cell_type": "code",
      "execution_count": 36,
      "metadata": {
        "id": "U3uvFohl8v5q"
      },
      "outputs": [],
      "source": [
        "def postprocess_embed_name(embedding):\n",
        "  new = {}\n",
        "  for k in embedding:\n",
        "    new[f'x_{k[0]},{k[1]},{k[2]}'] = embedding[k]\n",
        "  return new"
      ]
    },
    {
      "cell_type": "code",
      "execution_count": 37,
      "metadata": {
        "id": "M8sXjOlsSSpf"
      },
      "outputs": [],
      "source": [
        "def build_template(g_size):\n",
        "    template = nx.Graph()\n",
        "\n",
        "    left = []\n",
        "    right = []\n",
        "\n",
        "    for i in range(g_size):\n",
        "        template.add_node((0,i), pos=(0,i))\n",
        "        left.append((0,i))\n",
        "\n",
        "        template.add_node((1,i), pos=(1,i))\n",
        "        right.append((1,i))\n",
        "\n",
        "    for i in range(g_size):\n",
        "        for j in range(g_size):\n",
        "            template.add_edge((0,i),(1,j))\n",
        "\n",
        "    pos_dict = {}\n",
        "    for n in template.nodes:\n",
        "        pos_dict[n] = template.nodes[n]['pos']\n",
        "\n",
        "    return template, pos_dict, left, right"
      ]
    },
    {
      "cell_type": "markdown",
      "metadata": {
        "id": "-YVxtvq0gOXi"
      },
      "source": [
        "## IP minor-embedding"
      ]
    },
    {
      "cell_type": "markdown",
      "metadata": {
        "id": "UuXFbNR8XoVl"
      },
      "source": [
        "Given a source graph (logical graph) Y and a target graph X, a minor-embedding is the map $ϕ$ from Y to the connected subtrees of X with the following proprieties:\n",
        "\n",
        "1. for each $(y_{i_1},y_{i_2}) \\in E(Y)$ there exist at least one edge in X connecting $\\phi(y_{i_1}), \\phi(y_{i_2})$\n",
        "\n",
        "2. $\\phi(y_{i_1}) \\cap \\phi(y_{i_2}) = \t\\emptyset \\quad  ∀ i_1,i_2$"
      ]
    },
    {
      "cell_type": "markdown",
      "metadata": {
        "id": "b12nuoAv7iqa"
      },
      "source": [
        "### One-problem approach\n",
        "\n",
        "Here the problem of finding a minor-embedding is treated as a single Integer Program, where the constraints are a equational formulation of the conditions listed above"
      ]
    },
    {
      "cell_type": "markdown",
      "metadata": {
        "id": "1Dx3eFstNJaY"
      },
      "source": [
        "Here are the functions used to define the variables needed to solve the problem.\n",
        "\n",
        "To accomplish this 3 sets of variables has to be defined:\n",
        "\n",
        "\n",
        "1.   Binary decision variables: $α_{i,j}$ where $i:x_i\\in V(X), j:y_j\\in V(Y)$.\n",
        "\n",
        "  $\\alpha_{i,j} = 1 \\Leftrightarrow x_i \\in ϕ(y_j)$\n",
        "\n",
        "2.   Additional variables: $γ_{c_k,j} = \\prod_{l:x_l\\in int(c_k(x_{i_1},x_{i_2}))}\\alpha_{l,j}$ where $c_k(x_{i_1}, x_{i_2}) \\in C_k(x_{i_1},x_{i_2})$  the set of all chains connecting $x_{i_1},x_{i_2}$ with lenght at most $k$\n",
        "\n",
        "3. Additional variables: $δ_{i_1,i_2,j_1,j_2}^{∥} = \\alpha_{i_1,j_1}\\alpha_{i_2,j_2}$ and $\\delta_{i_1,i_2,j_1,j_2}^{\\perp} = \\alpha_{i_1,j_2}\\alpha_{i_2,j_1}$\n",
        "\n",
        "NOTE: the 2 additional sets of variables are defined to better formalize the constraints\n"
      ]
    },
    {
      "cell_type": "code",
      "execution_count": 38,
      "metadata": {
        "id": "AHNup1oEgOXj"
      },
      "outputs": [],
      "source": [
        "def define_decision_variables(target, graph, model):\n",
        "\n",
        "    var_dict = {}\n",
        "    for v in target.nodes:\n",
        "        for w in graph.nodes:\n",
        "            var_dict[(v,w)] = model.addVar(vtype=GRB.BINARY, name=f'x_{v},{w}')\n",
        "    return var_dict"
      ]
    },
    {
      "cell_type": "code",
      "execution_count": 39,
      "metadata": {
        "id": "C5gtIOjJgOXj",
        "colab": {
          "base_uri": "https://localhost:8080/",
          "height": 0
        },
        "outputId": "44ec48d6-3d49-42a2-d7d6-55cdc5e1ab5e"
      },
      "outputs": [
        {
          "output_type": "execute_result",
          "data": {
            "text/plain": [
              "\"\\ndef define_gamma_variables(chains, j, k, var_dict, model):\\n    ls = []\\n    for c in chains:\\n        if len(c) > 2:\\n            ls.append(model.addVar(vtype=GRB.BINARY, name=f'gamma_{c}_{j}'))\\n\\n            s = 1\\n            aux_0 = model.addVar(vtype=GRB.BINARY, name=f'aux_{c}_{j}_{0}')\\n            model.addConstr( aux_0 == 1)\\n            for i in range(1, len(c)-1):\\n              aux_1 = model.addVar(vtype=GRB.BINARY, name=f'aux_{c}_{j}_{i}')\\n              model.addConstr( aux_1 == aux_0*var_dict[c[i],j])\\n              aux_0 = aux_1\\n\\n            model.addConstr( ls[-1] == aux_1 )\\n\\n    return ls\\n\""
            ],
            "application/vnd.google.colaboratory.intrinsic+json": {
              "type": "string"
            }
          },
          "metadata": {},
          "execution_count": 39
        }
      ],
      "source": [
        "def define_gamma_variables(chains, j, k, var_dict, model):\n",
        "    ls = []\n",
        "    for c in chains:\n",
        "        if len(c) > 0:\n",
        "            ls.append(model.addVar(vtype=GRB.BINARY, name=f'gamma_{c}_{j}'))\n",
        "\n",
        "            s = 1\n",
        "            for i in range(1, len(c)-1):\n",
        "                s *= var_dict[c[i],j]\n",
        "            model.addConstr( ls[-1] == s )\n",
        "\n",
        "    return ls\n",
        "\n",
        "'''\n",
        "def define_gamma_variables(chains, j, k, var_dict, model):\n",
        "    ls = []\n",
        "    for c in chains:\n",
        "        if len(c) > 2:\n",
        "            ls.append(model.addVar(vtype=GRB.BINARY, name=f'gamma_{c}_{j}'))\n",
        "\n",
        "            s = 1\n",
        "            aux_0 = model.addVar(vtype=GRB.BINARY, name=f'aux_{c}_{j}_{0}')\n",
        "            model.addConstr( aux_0 == 1)\n",
        "            for i in range(1, len(c)-1):\n",
        "              aux_1 = model.addVar(vtype=GRB.BINARY, name=f'aux_{c}_{j}_{i}')\n",
        "              model.addConstr( aux_1 == aux_0*var_dict[c[i],j])\n",
        "              aux_0 = aux_1\n",
        "\n",
        "            model.addConstr( ls[-1] == aux_1 )\n",
        "\n",
        "    return ls\n",
        "'''"
      ]
    },
    {
      "cell_type": "code",
      "execution_count": 40,
      "metadata": {
        "id": "tSl0w6EmgOXk"
      },
      "outputs": [],
      "source": [
        "def define_delta_p_variable(x1,x2,y1,y2,var_dict ,model):\n",
        "    delta = model.addVar(vtype=GRB.BINARY, name=f'delta_{x1}{x2}{y1}{y2}')\n",
        "    model.addConstr(delta == var_dict[(x1,y1)] * var_dict[(x2,y2)])\n",
        "    return delta\n",
        "\n",
        "def define_delta_o_variable(x1,x2,y1,y2,var_dict ,model):\n",
        "    delta = model.addVar(vtype=GRB.BINARY, name=f'delta_{x1}{x2}{y1}{y2}')\n",
        "    model.addConstr(delta == var_dict[(x1,y2)] * var_dict[(x2,y1)])\n",
        "    return delta"
      ]
    },
    {
      "cell_type": "markdown",
      "metadata": {
        "id": "CYqoPbh7oIaG"
      },
      "source": [
        "**Embedding size constraints:**\n",
        "\n",
        "$$min\\_size \\leq \\sum_{i,j} \\alpha_{i,j} \\leq max\\_size$$\n",
        "\n",
        "trivial bounds for the min/max size are:\n",
        "* $min\\_size = |V(Y)|$\n",
        "* $max\\_size = |V(X)|$"
      ]
    },
    {
      "cell_type": "code",
      "execution_count": 41,
      "metadata": {
        "id": "rmDjorbxgOXk"
      },
      "outputs": [],
      "source": [
        "def add_size_constraint(var_dict, model, max, min):\n",
        "    model.addConstr(sum(var_dict.values()) <= max, name='size_constraint')\n",
        "    model.addConstr(sum(var_dict.values()) >= min, name='size_constraint')"
      ]
    },
    {
      "cell_type": "markdown",
      "metadata": {
        "id": "q1cqrV30tFIn"
      },
      "source": [
        "**Well-definition constraints:**\n",
        "$$\\sum_j \\alpha_{i,j} \\leq 1$$\n",
        "\n",
        "this enforce the property 2. of the embedding"
      ]
    },
    {
      "cell_type": "code",
      "execution_count": 42,
      "metadata": {
        "id": "fNf8H-GvgOXk"
      },
      "outputs": [],
      "source": [
        "def add_wd_constraint(target, graph, var_dict, model):\n",
        "    for n in target.nodes:\n",
        "        tmp = 0\n",
        "        for k in graph.nodes:\n",
        "            tmp += var_dict[(n,k)]\n",
        "\n",
        "        model.addConstr(tmp <= 1, name=f'well_defined_constraint_{n}')"
      ]
    },
    {
      "cell_type": "markdown",
      "metadata": {
        "id": "aQrzVZ-_uHuP"
      },
      "source": [
        "**Fiber size constraints:**\n",
        "$$1 \\leq \\sum_i \\alpha_{i,j} \\leq k$$\n",
        "\n",
        "there is also the implementation of an additional refinement which excludes $x_{i_1}, x_{i_2}$ from being part of $\\phi(y_j)$ if the distance between them is greater than $k$."
      ]
    },
    {
      "cell_type": "code",
      "execution_count": 43,
      "metadata": {
        "id": "3DypdMgbgOXk"
      },
      "outputs": [],
      "source": [
        "def add_fs_constraint(target, graph, var_dict, model, k):\n",
        "    for n in graph.nodes:\n",
        "        tmp = 0\n",
        "        for k in target.nodes:\n",
        "            tmp += var_dict[k,n]\n",
        "\n",
        "        model.addConstr(tmp <= k, name=f'fiber_size_max_constraint_{n}')\n",
        "        model.addConstr(tmp >= 1, name=f'fiber_size_min_constraint_{n}')\n",
        "\n",
        "def add_fs_refinement(target, graph, var_dict, model, k):\n",
        "    ls = set()\n",
        "    t_nodes = set(target.nodes)\n",
        "    for x1 in t_nodes:\n",
        "        ls.add(x1)\n",
        "        for x2 in t_nodes-ls:\n",
        "            chains = list(nx.all_simple_paths(target, x1, x2, k))\n",
        "            if len(chains) == 0:\n",
        "                for j in graph.nodes:\n",
        "                    tmp = var_dict[x1,j] + var_dict[x2,j]\n",
        "                    model.addConstr(tmp <= 1, name=f'fs_ref_{j}_{x1}_{x2}')"
      ]
    },
    {
      "cell_type": "markdown",
      "metadata": {
        "id": "BwLvNn2qJrH7"
      },
      "source": [
        "**Pullback condition:**\n",
        "\n",
        "$$1 \\leq \\sum_{i_1,i_2:(x_{i_1},x_{i_2}) \\in E(X)} (\\delta_{i_1,i_2,j_1,j_2}^{\\perp} + \\delta_{i_1,i_2,j_1,j_2}^{\\parallel})\\quad \\forall (y_{j_1},y_{j_2} \\in E(Y)$$\n",
        "\n",
        "this is equivalent to the condition 1. of a minor-embed"
      ]
    },
    {
      "cell_type": "code",
      "execution_count": 44,
      "metadata": {
        "id": "833GoA_3gOXl"
      },
      "outputs": [],
      "source": [
        "def add_pullback_constraint(target, graph, model, var_dict):\n",
        "    for ey in graph.edges:\n",
        "        s = 0\n",
        "        for ex in target.edges:\n",
        "            d_p = define_delta_p_variable(ex[0], ex[1], ey[0], ey[1], var_dict, model)\n",
        "            d_o = define_delta_o_variable(ex[0], ex[1], ey[0], ey[1], var_dict, model)\n",
        "\n",
        "            s += d_p+d_o\n",
        "            model.addConstr(s <= 1, name=f'pullback_ds_{ey}_{ex}')\n",
        "        model.addConstr(1 <= s, name=f'pullback_{ey}')"
      ]
    },
    {
      "cell_type": "markdown",
      "metadata": {
        "id": "RwQg9nMcMUb1"
      },
      "source": [
        "**Fiber Condition:**\n",
        "\n",
        "$$\\alpha_{i_1,j} + \\alpha_{i_2,j} + \\sum_{c_k  x_{i_1},x_{i_2}) \\in C_k(x_{i_1},x_{i_2})} \\gamma_{c_k,j} -1 \\leq 2 \\quad \\forall x_{i_1},x_{i_2} \\in \\phi(y_j)$$\n",
        "\n",
        "this ensure that the vertex models are connected subtrees of X"
      ]
    },
    {
      "cell_type": "code",
      "execution_count": 45,
      "metadata": {
        "id": "__Q3q22TgOXl"
      },
      "outputs": [],
      "source": [
        "def add_fiber_constraint(graph, target, k, var_dict, model):\n",
        "    for j in graph.nodes:\n",
        "        ls = set()\n",
        "        t_nodes = set(target.nodes)\n",
        "        for x1 in t_nodes:\n",
        "            ls.add(x1)\n",
        "            for x2 in t_nodes-ls:\n",
        "\n",
        "                chains = list(nx.all_simple_paths(target, x1, x2, k))\n",
        "                if len(chains) > 0:\n",
        "                    gammas = define_gamma_variables(chains, j, k, var_dict, model)\n",
        "\n",
        "                    model.addConstr( var_dict[(x1,j)] + var_dict[(x2,j)] + sum(gammas) - 1 <= 2)\n",
        "\n"
      ]
    },
    {
      "cell_type": "code",
      "execution_count": 46,
      "metadata": {
        "id": "rnNsULdHtsMe"
      },
      "outputs": [],
      "source": [
        "def validate_embedding(embedding, target, graph):\n",
        "\n",
        "\n",
        "  target_edges = list(target.edges)\n",
        "  edge_valid = True\n",
        "  node_valid = True\n",
        "  used_target_nodes = []\n",
        "  for node in graph.nodes:\n",
        "\n",
        "    #edges validation (for every edge (y_1,y_2) there must be an edge\n",
        "    #(chain(y_1), chain(y_2)) in the target\n",
        "    neighbors = list(graph.neighbors(node))\n",
        "    chain_node = embedding[node]\n",
        "    if len(neighbors) > 0:\n",
        "      edge_valid = False\n",
        "      for neig in neighbors:\n",
        "        chain_neig = embedding[neig]\n",
        "        for x1 in chain_node:\n",
        "          for x2 in chain_neig:\n",
        "            if (x1,x2) in target_edges or (x2,x1) in target_edges:\n",
        "              edge_valid = True\n",
        "        if not edge_valid:\n",
        "          print(f'edge ({node},{neig}) not valid')\n",
        "\n",
        "    #check that every chain is made of different nodes\n",
        "    for n in chain_node:\n",
        "      if n in used_target_nodes:\n",
        "        node_valid = False\n",
        "      else:\n",
        "        used_target_nodes.append(n)\n",
        "\n",
        "    #if the node embedding is not valid return false\n",
        "    if not edge_valid or not node_valid:\n",
        "      return edge_valid, node_valid\n",
        "\n",
        "  return edge_valid, node_valid\n",
        "\n"
      ]
    },
    {
      "cell_type": "code",
      "execution_count": 47,
      "metadata": {
        "id": "Nh8xMSfOuFN2"
      },
      "outputs": [],
      "source": [
        "def ip_embed_preprocess(var_dict, graph):\n",
        "  ip_embedding = {}\n",
        "\n",
        "  for j in graph:\n",
        "      ip_embedding[j] = []\n",
        "      for x, y in var_dict:\n",
        "          if y == j:\n",
        "              if var_dict[x,j].X > 0.5:\n",
        "                  ip_embedding[j].append(x)\n",
        "  return ip_embedding"
      ]
    },
    {
      "cell_type": "markdown",
      "source": [
        "## Template approach"
      ],
      "metadata": {
        "id": "Lnj7E1nsaPqO"
      }
    },
    {
      "cell_type": "code",
      "execution_count": 48,
      "metadata": {
        "id": "Qm63DL7lchGl"
      },
      "outputs": [],
      "source": [
        "def define_template_variables(graph, k, model):\n",
        "    yp_dict = {}\n",
        "    y_dict = {}\n",
        "    for n in graph.nodes:\n",
        "        yp_dict[n] = model.addVar(vtype=GRB.BINARY, name=f'y_{n}')\n",
        "        for i in range(k):\n",
        "            y_dict[(n,i)] = model.addVar(vtype=GRB.BINARY, name=f'y_{n},{i}')\n",
        "    return y_dict, yp_dict"
      ]
    },
    {
      "cell_type": "code",
      "execution_count": 49,
      "metadata": {
        "id": "-whBRDvVchGl"
      },
      "outputs": [],
      "source": [
        "def add_association_constraint(y_dict, yp_dict, graph, model):\n",
        "    for n in graph.nodes:\n",
        "        model.addConstr(yp_dict[n] <= y_dict[(n,0)] + y_dict[(n,1)], name=f'assoc_{n}')"
      ]
    },
    {
      "cell_type": "code",
      "execution_count": 50,
      "metadata": {
        "id": "ZqH5vsqIchGl"
      },
      "outputs": [],
      "source": [
        "def add_gsize_constraint(y_dict, graph, max_size, k, model):\n",
        "    for i in range(k):\n",
        "        s = 0\n",
        "        for n in graph.nodes:\n",
        "            s += y_dict[(n, i)]\n",
        "        model.addConstr( s <= max_size, name = f'max_gsize_{i}')"
      ]
    },
    {
      "cell_type": "code",
      "execution_count": 51,
      "metadata": {
        "id": "wo8hRsPzchGm"
      },
      "outputs": [],
      "source": [
        "def add_nsp_constraint(y_dict, graph, model):\n",
        "    for e in graph.edges:\n",
        "        exp = y_dict[e[0],0] + y_dict[e[1],0] - y_dict[e[0],1] - y_dict[e[1],1]\n",
        "        model.addConstr(exp <= 1, name = f'+nsp_constr_{e}')\n",
        "        model.addConstr(exp >= -1, name = f'-nsp_constr_{e}')"
      ]
    },
    {
      "cell_type": "code",
      "execution_count": 52,
      "metadata": {
        "id": "sAL-CCyqchGm"
      },
      "outputs": [],
      "source": [
        "def postprocess_template(y_dict):\n",
        "    prep = {}\n",
        "    embed = {}\n",
        "    for v in y_dict:\n",
        "        prep[v[0]] = []\n",
        "        embed[v[0]] = []\n",
        "\n",
        "    for v in y_dict:\n",
        "        if y_dict[v].X > 0.5:\n",
        "            prep[v[0]].append(v[1])\n",
        "\n",
        "    used = []\n",
        "    c_1 = 0\n",
        "    c_2 = 0\n",
        "    for n in prep:\n",
        "        for i in prep[n]:\n",
        "            if i == 1:\n",
        "                embed[n].append((0,c_1))\n",
        "                c_1 += 1\n",
        "            else:\n",
        "                embed[n].append((1,c_2))\n",
        "                c_2 += 1\n",
        "\n",
        "    return embed"
      ]
    },
    {
      "cell_type": "code",
      "execution_count": 53,
      "metadata": {
        "id": "dVtfVlocSSp1"
      },
      "outputs": [],
      "source": [
        "def postprocess_temp_embed(embed, left, right):\n",
        "    final = {}\n",
        "    for n in embed:\n",
        "        final[n] = []\n",
        "        for t in embed[n]:\n",
        "            if t[0] == 1:\n",
        "                final[n].extend(right[t])\n",
        "            else:\n",
        "                final[n].extend(left[t])\n",
        "    return final\n"
      ]
    },
    {
      "cell_type": "markdown",
      "source": [
        "# **Demo Embedding**"
      ],
      "metadata": {
        "id": "579NjbRB-LWI"
      }
    },
    {
      "cell_type": "code",
      "source": [
        "hardware_type = 'pegasus'\n",
        "target_size = 2"
      ],
      "metadata": {
        "id": "SuK2SyyreegJ"
      },
      "execution_count": 131,
      "outputs": []
    },
    {
      "cell_type": "markdown",
      "source": [
        "## Initialization"
      ],
      "metadata": {
        "id": "kBTlqAnl-yqk"
      }
    },
    {
      "cell_type": "code",
      "execution_count": 132,
      "metadata": {
        "id": "cMis_X6J-27W"
      },
      "outputs": [],
      "source": [
        "# instance presented in Venturelli's work, here used for testing\n",
        "\n",
        "instance = {\n",
        "    0: [(0,2), (1,1), (2,1)],\n",
        "    1: [(2,2), (0,1), (1,2)],\n",
        "    2: [(1,1), (0,1), (2,2)],\n",
        "    'timespan': 6\n",
        "}"
      ]
    },
    {
      "cell_type": "code",
      "execution_count": 133,
      "metadata": {
        "id": "yd0C6eXB-27W"
      },
      "outputs": [],
      "source": [
        "instance = {\n",
        "    0: [(0,2), (1,1)],\n",
        "    1: [(1,2), (0,1)],\n",
        "    2: [(1,1), (0,1)],\n",
        "    'timespan': 7\n",
        "}"
      ]
    },
    {
      "cell_type": "code",
      "source": [
        "n_jobs = 2\n",
        "n_machines = 3\n",
        "max_duration = 1\n",
        "timespan = 5\n",
        "\n",
        "instance = generate_random_instance(n_machines, n_jobs, max_duration, timespan)\n",
        "#var_dict = gen_var_dict(instance)"
      ],
      "metadata": {
        "id": "Ay2UpCiieb0g"
      },
      "execution_count": 134,
      "outputs": []
    },
    {
      "cell_type": "code",
      "source": [
        "var_dict = qubo_var_dict(instance)\n",
        "var_dict, ext_instance = simple_pruning(instance, var_dict)"
      ],
      "metadata": {
        "id": "dEld1byK--5k"
      },
      "execution_count": 135,
      "outputs": []
    },
    {
      "cell_type": "code",
      "source": [
        "#build the model\n",
        "\n",
        "#add constraints, separating the full hamiltonian in smaller sub-hamiltonians\n",
        "#helps identifing wich constraint gets violated in case of non feasible solutions\n",
        "H = SubH(otm_cons(instance, var_dict), 'otm_cons')\n",
        "H += SubH(soo_cons(instance, var_dict), 'soo_cons')\n",
        "H += SubH(oo_cons(instance, var_dict), 'oo_cons')\n",
        "H += SubH(timespan_dis(instance, var_dict, K=5, energy_array=[0.8,0.4,0.1,0.05,0.1]), 'time_discrimination')\n",
        "model = H.compile()\n",
        "\n",
        "#generate bqm\n",
        "\n",
        "bqm = model.to_bqm()"
      ],
      "metadata": {
        "id": "ErT5eoKv_DIr"
      },
      "execution_count": 136,
      "outputs": []
    },
    {
      "cell_type": "code",
      "source": [
        "graph = bqm.to_networkx_graph()\n",
        "pos_dict, label_dict = generate_vis_dict(instance, graph)"
      ],
      "metadata": {
        "colab": {
          "base_uri": "https://localhost:8080/"
        },
        "id": "5PoXGj-K_DkJ",
        "outputId": "fa55fdb7-5220-413b-83e8-51eb0b2235c3"
      },
      "execution_count": 137,
      "outputs": [
        {
          "output_type": "stream",
          "name": "stderr",
          "text": [
            "<ipython-input-137-f7b9b83b841c>:1: DeprecationWarning: BinaryQuadraticModel.to_networkx_graph() is deprecated since dimod 0.10.0 and will be removed in 0.12.0. Use dimod.to_networkx_graph() instead.\n",
            "  graph = bqm.to_networkx_graph()\n"
          ]
        }
      ]
    },
    {
      "cell_type": "code",
      "source": [
        "nx.draw(graph, pos_dict, labels=label_dict)"
      ],
      "metadata": {
        "colab": {
          "base_uri": "https://localhost:8080/",
          "height": 0
        },
        "id": "YXZLLAVRxm9s",
        "outputId": "5a1a4d89-208b-43ca-d38c-d2d8858758c6"
      },
      "execution_count": 138,
      "outputs": [
        {
          "output_type": "display_data",
          "data": {
            "text/plain": [
              "<Figure size 640x480 with 1 Axes>"
            ],
            "image/png": "[encoded data removed]"
          },
          "metadata": {}
        }
      ]
    },
    {
      "cell_type": "code",
      "source": [
        "if hardware_type == 'chimera':\n",
        "    target = dnx.chimera_graph(target_size) #create a SIZE,SIZE,4 chimera graph\n",
        "    dnx.draw_chimera(target)\n",
        "else:\n",
        "    target = dnx.pegasus_graph(target_size)\n",
        "    dnx.draw_pegasus(target, crosses=True, node_size=5)"
      ],
      "metadata": {
        "colab": {
          "base_uri": "https://localhost:8080/",
          "height": 0
        },
        "id": "W__QHxIR_SGl",
        "outputId": "c8456737-2b52-4c73-bb15-24e2b7d282d8"
      },
      "execution_count": 139,
      "outputs": [
        {
          "output_type": "display_data",
          "data": {
            "text/plain": [
              "<Figure size 640x480 with 1 Axes>"
            ],
            "image/png": "[encoded data removed]"
          },
          "metadata": {}
        }
      ]
    },
    {
      "cell_type": "code",
      "source": [
        "if hardware_type == 'chimera':\n",
        "  template, pos_template, left_shore, right_shore = build_template(4*target_size)\n",
        "  print(f'number of nodes: {len(template.nodes)}')\n",
        "  print(nx.is_bipartite(template))\n",
        "\n",
        "  left, right = dwave.embedding.chimera.find_biclique_embedding(left_shore, right_shore, target_size, target_size)"
      ],
      "metadata": {
        "id": "CV9_wVW3cpzQ"
      },
      "execution_count": 140,
      "outputs": []
    },
    {
      "cell_type": "markdown",
      "source": [
        "## Default approach\n"
      ],
      "metadata": {
        "id": "aCOSggru_0Tx"
      }
    },
    {
      "cell_type": "code",
      "source": [
        "embedding, size, max = default_embedding(target, graph)"
      ],
      "metadata": {
        "id": "Au0ggLTaBgcz"
      },
      "execution_count": 94,
      "outputs": []
    },
    {
      "cell_type": "code",
      "source": [
        "embedding, size, max_chain =  default_embedding_iter(target, graph, n_iter=100)"
      ],
      "metadata": {
        "id": "DoxxEh32FTFZ"
      },
      "execution_count": 141,
      "outputs": []
    },
    {
      "cell_type": "code",
      "source": [
        "np.sum(np.array(list(sizes.keys())) * np.array(list(sizes.values())))/100"
      ],
      "metadata": {
        "colab": {
          "base_uri": "https://localhost:8080/"
        },
        "id": "TyPRELqQDh_7",
        "outputId": "097613a8-92dd-4eee-b807-af63dd58ba22"
      },
      "execution_count": 142,
      "outputs": [
        {
          "output_type": "execute_result",
          "data": {
            "text/plain": [
              "35.59"
            ]
          },
          "metadata": {},
          "execution_count": 142
        }
      ]
    },
    {
      "cell_type": "code",
      "source": [
        "plt.bar(max_chain.keys(), max_chain.values(), tick_label = list(max_chain.keys()))"
      ],
      "metadata": {
        "colab": {
          "base_uri": "https://localhost:8080/",
          "height": 0
        },
        "id": "00LNq1C-C2kE",
        "outputId": "f38d3c66-75e0-4bc2-e951-2b7bbee0c92b"
      },
      "execution_count": 143,
      "outputs": [
        {
          "output_type": "execute_result",
          "data": {
            "text/plain": [
              "<BarContainer object of 3 artists>"
            ]
          },
          "metadata": {},
          "execution_count": 143
        },
        {
          "output_type": "display_data",
          "data": {
            "text/plain": [
              "<Figure size 640x480 with 1 Axes>"
            ],
            "image/png": "[encoded data removed]"
          },
          "metadata": {}
        }
      ]
    },
    {
      "cell_type": "code",
      "source": [
        "plt.bar(sizes.keys(), sizes.values())"
      ],
      "metadata": {
        "colab": {
          "base_uri": "https://localhost:8080/",
          "height": 0
        },
        "id": "gAXG0h-jCMeR",
        "outputId": "50836bcc-f621-42a8-ecc5-06b3ddd6bc22"
      },
      "execution_count": 144,
      "outputs": [
        {
          "output_type": "execute_result",
          "data": {
            "text/plain": [
              "<BarContainer object of 13 artists>"
            ]
          },
          "metadata": {},
          "execution_count": 144
        },
        {
          "output_type": "display_data",
          "data": {
            "text/plain": [
              "<Figure size 640x480 with 1 Axes>"
            ],
            "image/png": "[encoded data removed]"
          },
          "metadata": {}
        }
      ]
    },
    {
      "cell_type": "code",
      "source": [
        "dnx.draw_pegasus_embedding(target, embedding, node_size=5, with_labels=False)"
      ],
      "metadata": {
        "id": "IHBN6nCfAhY4"
      },
      "execution_count": null,
      "outputs": []
    },
    {
      "cell_type": "markdown",
      "source": [
        "## IP one-problem approach"
      ],
      "metadata": {
        "id": "iv2MtSua-YHA"
      }
    },
    {
      "cell_type": "code",
      "source": [
        "#Model initialization\n",
        "model = gb.Model(\"minor-embedding\", env=env)\n",
        "\n",
        "max_size = len(target.nodes)\n",
        "min_size = len(graph.nodes)\n",
        "print(f'Min_size: {min_size}')\n",
        "print(f'Max_size: {max_size}')\n",
        "k = 1\n",
        "\n",
        "var_dict = define_decision_variables(target, graph, model)\n",
        "model.update()"
      ],
      "metadata": {
        "colab": {
          "base_uri": "https://localhost:8080/"
        },
        "id": "zuTlpCfO-XYm",
        "outputId": "dac94d71-395c-41d9-fa92-a17595005438"
      },
      "execution_count": null,
      "outputs": [
        {
          "output_type": "stream",
          "name": "stdout",
          "text": [
            "Min_size: 18\n",
            "Max_size: 40\n"
          ]
        }
      ]
    },
    {
      "cell_type": "code",
      "source": [
        "print(f'Decision variables: {len(var_dict)}')\n",
        "\n",
        "add_size_constraint(var_dict, model, max_size, min_size)\n",
        "model.update()\n",
        "\n",
        "c = len(list(model.getConstrs()))\n",
        "print(f'Size constraints: {c}')\n",
        "\n",
        "add_wd_constraint(target, graph, var_dict, model)\n",
        "model.update()\n",
        "\n",
        "c = len(list(model.getConstrs())) - c\n",
        "print(f'Well Definition constraints: {c}')\n",
        "\n",
        "add_fs_constraint(target, graph, var_dict, model, k)\n",
        "model.update()\n",
        "\n",
        "c = len(list(model.getConstrs())) - c\n",
        "print(f'Fiber Size constraints: {c}')\n",
        "\n",
        "add_fs_refinement(target, graph, var_dict, model, k)\n",
        "model.update()\n",
        "\n",
        "c = len(list(model.getConstrs())) - c\n",
        "print(f'Fiber Size refinement: {c}')\n",
        "\n",
        "add_pullback_constraint(target, graph, model, var_dict)\n",
        "model.update()\n",
        "\n",
        "c = len(list(model.getConstrs())) - c\n",
        "print(f'Pullback constraints: {c}')\n",
        "\n",
        "add_fiber_constraint(graph, target, k, var_dict, model)\n",
        "model.update()\n",
        "\n",
        "c = len(list(model.getConstrs())) - c\n",
        "print(f'Fiber Condition constraints: {c}')"
      ],
      "metadata": {
        "colab": {
          "base_uri": "https://localhost:8080/"
        },
        "id": "B4_3jbit_fVM",
        "outputId": "65691f0c-32bc-4f1b-a270-ef6cb8391099"
      },
      "execution_count": null,
      "outputs": [
        {
          "output_type": "stream",
          "name": "stdout",
          "text": [
            "Decision variables: 720\n",
            "Size constraints: 2\n",
            "Well Definition constraints: 40\n",
            "Fiber Size constraints: 38\n",
            "Fiber Size refinement: 11128\n",
            "Pullback constraints: 5813\n",
            "Fiber Condition constraints: 14080\n"
          ]
        }
      ]
    },
    {
      "cell_type": "code",
      "source": [
        "model.setObjective(sum(var_dict.values()), GRB.MINIMIZE)"
      ],
      "metadata": {
        "id": "C8n5zOrSKvMu"
      },
      "execution_count": null,
      "outputs": []
    },
    {
      "cell_type": "code",
      "source": [
        "model.params.BestObjStop = 58"
      ],
      "metadata": {
        "id": "HMVH6U6v_vXe"
      },
      "execution_count": null,
      "outputs": []
    },
    {
      "cell_type": "code",
      "source": [
        "model.optimize()"
      ],
      "metadata": {
        "colab": {
          "base_uri": "https://localhost:8080/"
        },
        "id": "oQvzIN_4FLAa",
        "outputId": "c3286b68-287f-4d6c-cdbe-91b3174a159e"
      },
      "execution_count": null,
      "outputs": [
        {
          "output_type": "stream",
          "name": "stdout",
          "text": [
            "Gurobi Optimizer version 10.0.3 build v10.0.3rc0 (linux64)\n",
            "\n",
            "CPU model: Intel(R) Xeon(R) CPU @ 2.20GHz, instruction set [SSE2|AVX|AVX2]\n",
            "Thread count: 1 physical cores, 2 logical processors, using up to 2 threads\n",
            "\n",
            "Academic license - for non-commercial use only - registered to andrea.ditrani@studenti.unipd.it\n",
            "Optimize a model with 19893 rows, 12200 columns and 990260 nonzeros\n",
            "Model fingerprint: 0x2be5979e\n",
            "Model has 11480 quadratic constraints\n",
            "Variable types: 0 continuous, 12200 integer (12200 binary)\n",
            "Coefficient statistics:\n",
            "  Matrix range     [1e+00, 1e+00]\n",
            "  QMatrix range    [1e+00, 1e+00]\n",
            "  QLMatrix range   [1e+00, 1e+00]\n",
            "  Objective range  [1e+00, 1e+00]\n",
            "  Bounds range     [1e+00, 1e+00]\n",
            "  RHS range        [1e+00, 4e+01]\n",
            "Presolved: 50410 rows, 23702 columns, 686390 nonzeros\n",
            "\n",
            "Continuing optimization...\n",
            "\n",
            "     0     0   18.00000    0  106   20.00000   18.00000  10.0%     -  310s\n",
            "     0     0   18.00000    0  688   20.00000   18.00000  10.0%     -  316s\n",
            "     0     0   18.00000    0  364   20.00000   18.00000  10.0%     -  343s\n",
            "H    0     0                      19.0000000   18.00000  5.26%     -  344s\n",
            "     0     2   18.00000    0  171   19.00000   18.00000  5.26%     -  381s\n",
            "     2     3   18.00000    0 6100   19.00000   18.00000  5.26% 72406  427s\n",
            "     4     4   18.00000    0  893   19.00000   18.00000  5.26% 36203  648s\n",
            "     5     5   18.00000    0 1911   19.00000   18.00000  5.26% 28963  683s\n",
            "     6     6   18.00000    0 2649   19.00000   18.00000  5.26% 24136  697s\n",
            "     7     6   18.00000    0  809   19.00000   18.00000  5.26% 20688  879s\n",
            "     8     7   18.00000    0 1171   19.00000   18.00000  5.26% 18102  895s\n",
            "\n",
            "Cutting planes:\n",
            "  Implied bound: 74\n",
            "  Clique: 88\n",
            "  Zero half: 55\n",
            "  RLT: 37\n",
            "  Relax-and-lift: 14\n",
            "  BQP: 24\n",
            "\n",
            "Explored 8 nodes (991983 simplex iterations) in 777.43 seconds (674.19 work units)\n",
            "Thread count was 2 (of 2 available processors)\n",
            "\n",
            "Solution count 2: 19 20 \n",
            "\n",
            "Solve interrupted\n",
            "Best objective 1.900000000000e+01, best bound 1.800000000000e+01, gap 5.2632%\n"
          ]
        }
      ]
    },
    {
      "cell_type": "code",
      "source": [
        "ip_embedding = {}\n",
        "\n",
        "for j in graph:\n",
        "    ip_embedding[j] = []\n",
        "    for x, y in var_dict:\n",
        "        if y == j:\n",
        "            if var_dict[x,j].X > 0.5:\n",
        "                ip_embedding[j].append(x)"
      ],
      "metadata": {
        "id": "1n8u2ntQJ2Ek"
      },
      "execution_count": null,
      "outputs": []
    },
    {
      "cell_type": "code",
      "source": [
        "ip_embedding"
      ],
      "metadata": {
        "colab": {
          "base_uri": "https://localhost:8080/"
        },
        "id": "m5aNFOUlbv8j",
        "outputId": "19dc67dd-3233-4e85-b60f-a76a39dc54d8"
      },
      "execution_count": null,
      "outputs": [
        {
          "output_type": "execute_result",
          "data": {
            "text/plain": [
              "{'x_2,1,3': [10],\n",
              " 'x_1,0,3': [37],\n",
              " 'x_2,1,2': [11],\n",
              " 'x_1,0,2': [13, 30],\n",
              " 'x_2,0,2': [36],\n",
              " 'x_1,0,1': [9],\n",
              " 'x_2,0,3': [15],\n",
              " 'x_1,1,3': [41],\n",
              " 'x_1,1,2': [40],\n",
              " 'x_0,0,2': [8],\n",
              " 'x_2,0,4': [14],\n",
              " 'x_2,1,4': [35],\n",
              " 'x_0,0,1': [39],\n",
              " 'x_0,0,0': [38],\n",
              " 'x_0,1,2': [7],\n",
              " 'x_0,1,1': [43],\n",
              " 'x_0,1,0': [42],\n",
              " 'x_1,1,1': [6]}"
            ]
          },
          "metadata": {},
          "execution_count": 426
        }
      ]
    },
    {
      "cell_type": "code",
      "source": [
        "validate_embedding(ip_embedding, target, graph)"
      ],
      "metadata": {
        "colab": {
          "base_uri": "https://localhost:8080/"
        },
        "id": "PrGny6WjJ3Tv",
        "outputId": "6ccab191-3eb2-4c6c-8a7b-e28bcb51836f"
      },
      "execution_count": null,
      "outputs": [
        {
          "output_type": "execute_result",
          "data": {
            "text/plain": [
              "(True, True)"
            ]
          },
          "metadata": {},
          "execution_count": 427
        }
      ]
    },
    {
      "cell_type": "code",
      "source": [
        "dnx.draw_pegasus_embedding(target, ip_embedding, node_size=25,with_labels=True)"
      ],
      "metadata": {
        "colab": {
          "base_uri": "https://localhost:8080/",
          "height": 516
        },
        "id": "uUdwIstHbHKp",
        "outputId": "56834dab-7f3f-4f6c-dfa0-03a8c2d0b2bc"
      },
      "execution_count": null,
      "outputs": [
        {
          "output_type": "display_data",
          "data": {
            "text/plain": [
              "<Figure size 640x480 with 1 Axes>"
            ],
            "image/png": "[encoded data removed]"
          },
          "metadata": {}
        }
      ]
    },
    {
      "cell_type": "markdown",
      "source": [
        "## Template approach"
      ],
      "metadata": {
        "id": "POVtXiBLatAt"
      }
    },
    {
      "cell_type": "code",
      "source": [
        "model = gb.Model(\"minor-embedding\")\n",
        "k = 2\n",
        "y_dict, yp_dict = define_template_variables(graph, k, model)"
      ],
      "metadata": {
        "id": "9t-oIFNxdd8r"
      },
      "execution_count": 86,
      "outputs": []
    },
    {
      "cell_type": "code",
      "source": [
        "add_association_constraint(y_dict, yp_dict, graph, model)\n",
        "add_gsize_constraint(y_dict, graph, 4*size, k, model)\n",
        "add_nsp_constraint(y_dict, graph, model)"
      ],
      "metadata": {
        "id": "wPVw-EsyyAYt"
      },
      "execution_count": 87,
      "outputs": []
    },
    {
      "cell_type": "code",
      "source": [
        "model.setObjective(sum(yp_dict.values()), GRB.MAXIMIZE)"
      ],
      "metadata": {
        "id": "VmC85rMTyFdH"
      },
      "execution_count": 88,
      "outputs": []
    },
    {
      "cell_type": "code",
      "source": [
        "model.optimize()"
      ],
      "metadata": {
        "colab": {
          "base_uri": "https://localhost:8080/"
        },
        "id": "r2G4ES2-yHWg",
        "outputId": "5f8a34b4-e78f-4501-cb44-dac829179bbf"
      },
      "execution_count": 89,
      "outputs": [
        {
          "output_type": "stream",
          "name": "stdout",
          "text": [
            "Gurobi Optimizer version 10.0.3 build v10.0.3rc0 (linux64)\n",
            "\n",
            "CPU model: Intel(R) Xeon(R) CPU @ 2.20GHz, instruction set [SSE2|AVX|AVX2]\n",
            "Thread count: 1 physical cores, 2 logical processors, using up to 2 threads\n",
            "\n",
            "Optimize a model with 94 rows, 54 columns and 386 nonzeros\n",
            "Model fingerprint: 0x6d21bb42\n",
            "Variable types: 0 continuous, 54 integer (54 binary)\n",
            "Coefficient statistics:\n",
            "  Matrix range     [1e+00, 1e+00]\n",
            "  Objective range  [1e+00, 1e+00]\n",
            "  Bounds range     [1e+00, 1e+00]\n",
            "  RHS range        [1e+00, 6e+01]\n",
            "Found heuristic solution: objective -0.0000000\n",
            "Found heuristic solution: objective 18.0000000\n",
            "\n",
            "Explored 0 nodes (0 simplex iterations) in 0.02 seconds (0.00 work units)\n",
            "Thread count was 1 (of 2 available processors)\n",
            "\n",
            "Solution count 2: 18 -0 \n",
            "\n",
            "Optimal solution found (tolerance 1.00e-04)\n",
            "Best objective 1.800000000000e+01, best bound 1.800000000000e+01, gap 0.0000%\n"
          ]
        }
      ]
    },
    {
      "cell_type": "code",
      "source": [
        "embed = postprocess_template(y_dict)\n",
        "embed"
      ],
      "metadata": {
        "colab": {
          "base_uri": "https://localhost:8080/"
        },
        "id": "0W316ZthyIgd",
        "outputId": "fc1bc361-3aec-4686-a21a-694b4d2fa7be"
      },
      "execution_count": 90,
      "outputs": [
        {
          "output_type": "execute_result",
          "data": {
            "text/plain": [
              "{'x_1,1,1': [(1, 0), (0, 0)],\n",
              " 'x_0,0,1': [(1, 1), (0, 1)],\n",
              " 'x_2,1,3': [(1, 2), (0, 2)],\n",
              " 'x_2,0,3': [(1, 3), (0, 3)],\n",
              " 'x_2,0,2': [(1, 4), (0, 4)],\n",
              " 'x_1,0,3': [(1, 5), (0, 5)],\n",
              " 'x_1,1,3': [(1, 6), (0, 6)],\n",
              " 'x_0,0,2': [(1, 7), (0, 7)],\n",
              " 'x_0,0,0': [(1, 8), (0, 8)],\n",
              " 'x_1,0,2': [(1, 9), (0, 9)],\n",
              " 'x_1,1,2': [(1, 10), (0, 10)],\n",
              " 'x_0,1,2': [(1, 11), (0, 11)],\n",
              " 'x_2,1,2': [(1, 12), (0, 12)],\n",
              " 'x_2,1,4': [(1, 13), (0, 13)],\n",
              " 'x_1,0,1': [(1, 14), (0, 14)],\n",
              " 'x_0,1,1': [(1, 15), (0, 15)],\n",
              " 'x_2,0,4': [(1, 16), (0, 16)],\n",
              " 'x_0,1,0': [(1, 17), (0, 17)]}"
            ]
          },
          "metadata": {},
          "execution_count": 90
        }
      ]
    },
    {
      "cell_type": "code",
      "source": [
        "final = postprocess_temp_embed(embed, left, right)"
      ],
      "metadata": {
        "id": "1zS3EXTQyQqL"
      },
      "execution_count": 91,
      "outputs": []
    },
    {
      "cell_type": "code",
      "source": [
        "validate_embedding(final, target, graph)"
      ],
      "metadata": {
        "colab": {
          "base_uri": "https://localhost:8080/"
        },
        "id": "NGza3-R8ycWM",
        "outputId": "20d3f5fb-5fc6-4aee-d158-07c56742e71b"
      },
      "execution_count": 92,
      "outputs": [
        {
          "output_type": "execute_result",
          "data": {
            "text/plain": [
              "(True, True)"
            ]
          },
          "metadata": {},
          "execution_count": 92
        }
      ]
    },
    {
      "cell_type": "code",
      "source": [
        "dnx.draw_chimera_embedding(target, final, node_size=25, with_labels=False)"
      ],
      "metadata": {
        "colab": {
          "base_uri": "https://localhost:8080/",
          "height": 0
        },
        "id": "aXh13CVqyf-n",
        "outputId": "e65660c9-5cd2-4c83-ecf8-5eeaafdd8828"
      },
      "execution_count": 93,
      "outputs": [
        {
          "output_type": "display_data",
          "data": {
            "text/plain": [
              "<Figure size 640x480 with 1 Axes>"
            ],
            "image/png": "[encoded data removed]"
          },
          "metadata": {}
        }
      ]
    },
    {
      "cell_type": "markdown",
      "source": [
        "# **Test emebdding**"
      ],
      "metadata": {
        "id": "bFSVpSVpL7V6"
      }
    },
    {
      "cell_type": "code",
      "source": [
        "hardware_type = 'chimera'\n",
        "target_size = 2"
      ],
      "metadata": {
        "id": "1WhRx0EEdb0K"
      },
      "execution_count": null,
      "outputs": []
    },
    {
      "cell_type": "code",
      "source": [
        "mode = 'generate'\n",
        "n_instances = 100\n",
        "save = True\n",
        "path = '/content/drive/MyDrive/UNIPD_Projects/Quantum/Data/'"
      ],
      "metadata": {
        "id": "DxKTEZkuMA6q"
      },
      "execution_count": 61,
      "outputs": []
    },
    {
      "cell_type": "code",
      "source": [
        "mode = 'load'\n",
        "n_instances = 100\n",
        "path = '/content/drive/MyDrive/UNIPD_Projects/Quantum/Data/'"
      ],
      "metadata": {
        "id": "lQHlo3T0ckpy"
      },
      "execution_count": 68,
      "outputs": []
    },
    {
      "cell_type": "code",
      "source": [
        "n_jobs = 2\n",
        "n_machines = 3\n",
        "max_duration = 1\n",
        "timespan = 5"
      ],
      "metadata": {
        "id": "4wcHRA-Wa08a"
      },
      "execution_count": 69,
      "outputs": []
    },
    {
      "cell_type": "code",
      "source": [
        "n_jobs = 3\n",
        "n_machines = 3\n",
        "max_duration = 1\n",
        "timespan = 5"
      ],
      "metadata": {
        "id": "QErNcTapa8sL"
      },
      "execution_count": null,
      "outputs": []
    },
    {
      "cell_type": "markdown",
      "source": [
        "## Initialization"
      ],
      "metadata": {
        "id": "b633zwacMMdB"
      }
    },
    {
      "cell_type": "code",
      "source": [
        "if mode == 'generate'\n",
        "  instance_dict = {}\n",
        "  for i in range(n_instances):\n",
        "    instance_dict[i] = {}\n",
        "\n",
        "    instance = generate_random_instance(n_machines, n_jobs, max_duration, timespan)\n",
        "    var_dict = qubo_var_dict(instance)\n",
        "    var_dict, ext_instance = simple_pruning(instance, var_dict)\n",
        "    instance_dict[i]['instance'] = instance\n",
        "    #build the model\n",
        "\n",
        "    #add constraints, separating the full hamiltonian in smaller sub-hamiltonians\n",
        "    #helps identifing wich constraint gets violated in case of non feasible solutions\n",
        "    H = SubH(otm_cons(instance, var_dict), 'otm_cons')\n",
        "    H += SubH(soo_cons(instance, var_dict), 'soo_cons')\n",
        "    H += SubH(oo_cons(instance, var_dict), 'oo_cons')\n",
        "    H += SubH(timespan_dis(instance, var_dict, K=5, energy_array=[0.8,0.4,0.1,0.05,0.1]), 'time_discrimination')\n",
        "    model = H.compile()\n",
        "\n",
        "    #generate bqm\n",
        "\n",
        "    bqm = model.to_bqm()\n",
        "\n",
        "    graph = bqm.to_networkx_graph()\n",
        "    pos_dict, label_dict = generate_vis_dict(instance, graph)\n",
        "    instance_dict[i]['graph'] = (graph,pos_dict,label_dict)"
      ],
      "metadata": {
        "colab": {
          "base_uri": "https://localhost:8080/"
        },
        "id": "TRlAmWjAMcXN",
        "outputId": "3551ce68-e486-4269-8e3b-376d0a418a1d"
      },
      "execution_count": 59,
      "outputs": [
        {
          "output_type": "stream",
          "name": "stderr",
          "text": [
            "<ipython-input-59-a130f8b88796>:23: DeprecationWarning: BinaryQuadraticModel.to_networkx_graph() is deprecated since dimod 0.10.0 and will be removed in 0.12.0. Use dimod.to_networkx_graph() instead.\n",
            "  graph = bqm.to_networkx_graph()\n"
          ]
        }
      ]
    },
    {
      "cell_type": "code",
      "source": [
        "if save and mode == 'generate':\n",
        "  name = f'{n_instances}_J{n_jobs}_T{n_machines}_D{max_duration}_T{timespan}'\n",
        "\n",
        "  with open(path+name, 'wb') as f:\n",
        "    pickle.dump(instance_dict, f)"
      ],
      "metadata": {
        "id": "EwPQ35Qvajuo"
      },
      "execution_count": 67,
      "outputs": []
    },
    {
      "cell_type": "code",
      "source": [
        "if mode == 'load':\n",
        "  name = f'{n_instances}_J{n_jobs}_T{n_machines}_D{max_duration}_T{timespan}'\n",
        "\n",
        "  with open(path+name, 'rb') as f:\n",
        "    instance_dict = pickle.load(f)"
      ],
      "metadata": {
        "id": "oqJ3x4n9c8UY"
      },
      "execution_count": 70,
      "outputs": []
    },
    {
      "cell_type": "code",
      "source": [
        "if hardware_type == 'chimera':\n",
        "    target = dnx.chimera_graph(target_size) #create a SIZE,SIZE,4 chimera graph\n",
        "    #dnx.draw_chimera(target)\n",
        "else:\n",
        "    target = dnx.pegasus_graph(target_size)\n",
        "    #dnx.draw_pegasus(target, crosses=True, node_size=5)"
      ],
      "metadata": {
        "id": "-NX5LBV2QdBl"
      },
      "execution_count": 161,
      "outputs": []
    },
    {
      "cell_type": "code",
      "source": [
        "if hardware_type == 'chimera':\n",
        "  template, pos_template, left_shore, right_shore = build_template(4*target_size)\n",
        "  print(f'number of nodes: {len(template.nodes)}')\n",
        "  print(nx.is_bipartite(template))\n",
        "\n",
        "  left, right = dwave.embedding.chimera.find_biclique_embedding(left_shore, right_shore, target_size, target_size)"
      ],
      "metadata": {
        "colab": {
          "base_uri": "https://localhost:8080/"
        },
        "id": "jjpGbO9WQmDZ",
        "outputId": "01a72c37-a999-4050-8ce5-3c66692b7ee7"
      },
      "execution_count": 162,
      "outputs": [
        {
          "output_type": "stream",
          "name": "stdout",
          "text": [
            "number of nodes: 16\n",
            "True\n"
          ]
        }
      ]
    },
    {
      "cell_type": "markdown",
      "metadata": {
        "id": "42Dhw48sDeVc"
      },
      "source": [
        "# **Time-indexing solving**"
      ]
    },
    {
      "cell_type": "markdown",
      "metadata": {
        "id": "pYpodxqFFKNu"
      },
      "source": [
        "## Instance generation"
      ]
    },
    {
      "cell_type": "code",
      "execution_count": null,
      "metadata": {
        "id": "p6WQUeaSlCK6"
      },
      "outputs": [],
      "source": [
        "# instance presented in Venturelli's work, here used for testing\n",
        "\n",
        "instance = {\n",
        "    0: [(0,2), (1,1), (2,1)],\n",
        "    1: [(2,2), (0,1), (1,2)],\n",
        "    2: [(1,1), (0,1), (2,2)],\n",
        "    'timespan': 6\n",
        "}"
      ]
    },
    {
      "cell_type": "code",
      "execution_count": null,
      "metadata": {
        "id": "nGxd56Kk8jvZ"
      },
      "outputs": [],
      "source": [
        "instance = {\n",
        "    0: [(0,2), (1,1)],\n",
        "    1: [(1,2), (0,1)],\n",
        "    'timespan': 6\n",
        "}"
      ]
    },
    {
      "cell_type": "code",
      "execution_count": null,
      "metadata": {
        "id": "1g3Ye6Rh0i47"
      },
      "outputs": [],
      "source": [
        "#generate random instance (machine, job, max duration, timespan)\n",
        "\n",
        "n_jobs = 7\n",
        "n_machines = 10\n",
        "max_duration = 5\n",
        "timespan = 10\n",
        "\n",
        "instance = generate_random_instance(n_machines, n_jobs, max_duration, timespan)"
      ]
    },
    {
      "cell_type": "code",
      "execution_count": null,
      "metadata": {
        "id": "KjyOY87IkMZb"
      },
      "outputs": [],
      "source": [
        "instance = instance_from_file('/content/ft10.txt', 10)"
      ]
    },
    {
      "cell_type": "markdown",
      "metadata": {
        "id": "Ulcd2yKY6don"
      },
      "source": [
        "## Solving"
      ]
    },
    {
      "cell_type": "code",
      "execution_count": null,
      "metadata": {
        "id": "aMW0sGGE12-Y"
      },
      "outputs": [],
      "source": [
        "#pruning\n",
        "\n",
        "var_dict = qubo_var_dict(instance)\n",
        "var_dict, ext_instance = simple_pruning(instance, var_dict)"
      ]
    },
    {
      "cell_type": "code",
      "execution_count": null,
      "metadata": {
        "id": "HhWg5dsyvYL0"
      },
      "outputs": [],
      "source": [
        "#build the model\n",
        "\n",
        "#add constraints, separating the full hamiltonian in smaller sub-hamiltonians\n",
        "#helps identifing wich constraint gets violated in case of non feasible solutions\n",
        "H = SubH(otm_cons(instance, var_dict), 'otm_cons')\n",
        "H += SubH(soo_cons(instance, var_dict), 'soo_cons')\n",
        "H += SubH(oo_cons(instance, var_dict), 'oo_cons')\n",
        "H += SubH(timespan_dis(instance, var_dict, K=5, energy_array=[0.8,0.4,0.1,0.05,0.1]), 'time_discrimination')\n",
        "model = H.compile()\n",
        "\n",
        "#generate bqm\n",
        "\n",
        "bqm = model.to_bqm()"
      ]
    },
    {
      "cell_type": "code",
      "source": [
        "graph = bqm.to_networkx_graph()\n",
        "pos_dict, label_dict = generate_vis_dict(instance, graph)"
      ],
      "metadata": {
        "colab": {
          "base_uri": "https://localhost:8080/"
        },
        "id": "yDedj6dkSJX3",
        "outputId": "83cfdccc-29c1-420b-db36-2a26401e89b9"
      },
      "execution_count": null,
      "outputs": [
        {
          "output_type": "stream",
          "name": "stderr",
          "text": [
            "<ipython-input-97-f7b9b83b841c>:1: DeprecationWarning: BinaryQuadraticModel.to_networkx_graph() is deprecated since dimod 0.10.0 and will be removed in 0.12.0. Use dimod.to_networkx_graph() instead.\n",
            "  graph = bqm.to_networkx_graph()\n"
          ]
        }
      ]
    },
    {
      "cell_type": "code",
      "source": [
        "nx.draw(graph, pos_dict, labels=label_dict)\n",
        "plt.title('Problem graph')\n",
        "plt.text(*(0.25,0.2),'Machine 1',ha='center')\n",
        "plt.text(*(1.25,0.2),'Machine 2',ha='center')\n",
        "plt.text(*(2.25,0.2),'Machine 3',ha='center')\n",
        "\n",
        "plt.text(*(0,2.1),'Job 1',ha='center')\n",
        "plt.text(*(0.25,2.1),'Job 2',ha='center')\n",
        "plt.text(*(0.5,2.1),'Job 3',ha='center')\n",
        "\n",
        "plt.text(*(1,2.1),'Job 1',ha='center')\n",
        "plt.text(*(1.25,2.1),'Job 2',ha='center')\n",
        "plt.text(*(1.5,2.1),'Job 3',ha='center')\n",
        "\n",
        "plt.text(*(2,2.1),'Job 1',ha='center')\n",
        "plt.text(*(2.25,2.1),'Job 2',ha='center')\n",
        "plt.text(*(2.5,2.1),'Job 3',ha='center')\n",
        "#nx.draw_networkx_labels(graph, pos_dict, label_dict)"
      ],
      "metadata": {
        "id": "9bt1znT7XDo2",
        "outputId": "49270af4-4c97-4d15-8657-bede4e0459e9",
        "colab": {
          "base_uri": "https://localhost:8080/",
          "height": 533
        }
      },
      "execution_count": null,
      "outputs": [
        {
          "output_type": "execute_result",
          "data": {
            "text/plain": [
              "Text(2.5, 2.1, 'Job 3')"
            ]
          },
          "metadata": {},
          "execution_count": 125
        },
        {
          "output_type": "display_data",
          "data": {
            "text/plain": [
              "<Figure size 640x480 with 1 Axes>"
            ],
            "image/png": "[encoded data removed]"
          },
          "metadata": {}
        }
      ]
    },
    {
      "cell_type": "markdown",
      "metadata": {
        "id": "ULQPGysAFWYP"
      },
      "source": [
        "### QPU solving"
      ]
    },
    {
      "cell_type": "code",
      "execution_count": null,
      "metadata": {
        "id": "JWPumCgg4Vg2"
      },
      "outputs": [],
      "source": [
        "#sample on QPU and standard embedding\n",
        "\n",
        "dw = dwave.system.DWaveSampler(token=client_qpu.token, solver={'topology__type': 'pegasus'})\n",
        "sampler = dwave.system.EmbeddingComposite(dw)\n",
        "\n",
        "sampleset = sampler.sample(bqm,\n",
        "      answer_mode=\"raw\",\n",
        "      num_reads=4500,\n",
        "      annealing_time=40)"
      ]
    },
    {
      "cell_type": "code",
      "execution_count": null,
      "metadata": {
        "colab": {
          "base_uri": "https://localhost:8080/"
        },
        "id": "JGE8wrPOvqjg",
        "outputId": "889d9dab-f522-4de7-9af6-7a622c432d9d"
      },
      "outputs": [
        {
          "output_type": "execute_result",
          "data": {
            "text/plain": [
              "1.3"
            ]
          },
          "metadata": {},
          "execution_count": 90
        }
      ],
      "source": [
        "#check energy of the best sample\n",
        "solution = sampleset.first.sample\n",
        "round(sampleset.first.energy,2)"
      ]
    },
    {
      "cell_type": "code",
      "source": [
        "solution"
      ],
      "metadata": {
        "id": "1r5gqtx1zPAd"
      },
      "execution_count": null,
      "outputs": []
    },
    {
      "cell_type": "markdown",
      "metadata": {
        "id": "KrpmcjPy7XNl"
      },
      "source": [
        "# **Disjunctive Solving**"
      ]
    },
    {
      "cell_type": "markdown",
      "metadata": {
        "id": "dfHcFky2aeGz"
      },
      "source": [
        "### Model Building"
      ]
    },
    {
      "cell_type": "code",
      "execution_count": null,
      "metadata": {
        "id": "FQ8sYifg72XE"
      },
      "outputs": [],
      "source": [
        "model = gb.Model('JSS', env=env)\n",
        "\n",
        "dec_dict, bin_dict, slack_dict = ilp_var_dict(instance, model)\n",
        "model.update()"
      ]
    },
    {
      "cell_type": "code",
      "execution_count": null,
      "metadata": {
        "id": "AwtzwdFL72XE"
      },
      "outputs": [],
      "source": [
        "prec_const(instance, model, dec_dict, slack_dict)\n",
        "model.update()"
      ]
    },
    {
      "cell_type": "code",
      "execution_count": null,
      "metadata": {
        "id": "J1AH5kb172XE"
      },
      "outputs": [],
      "source": [
        "disj_const(instance, model, dec_dict, bin_dict, slack_dict)\n",
        "model.update()"
      ]
    },
    {
      "cell_type": "code",
      "execution_count": null,
      "metadata": {
        "id": "gM3xVM9u72XE"
      },
      "outputs": [],
      "source": [
        "C = makespan_cons(instance, model, dec_dict)\n",
        "model.update()"
      ]
    },
    {
      "cell_type": "code",
      "execution_count": null,
      "metadata": {
        "id": "Dhytxn1e72XE"
      },
      "outputs": [],
      "source": [
        "model.setObjective(C, GRB.MINIMIZE)\n",
        "model.update()\n",
        "obj_arr = np.array(model.Obj)"
      ]
    },
    {
      "cell_type": "markdown",
      "metadata": {
        "id": "WNScQIlpakVT"
      },
      "source": [
        "### Gurobi solving"
      ]
    },
    {
      "cell_type": "code",
      "execution_count": null,
      "metadata": {
        "colab": {
          "base_uri": "https://localhost:8080/"
        },
        "id": "eiAOwU8L72XF",
        "outputId": "a03acc47-98de-4f5d-e511-8b50ce57e07b"
      },
      "outputs": [
        {
          "name": "stdout",
          "output_type": "stream",
          "text": [
            "Gurobi Optimizer version 10.0.2 build v10.0.2rc0 (linux64)\n",
            "\n",
            "CPU model: Intel(R) Xeon(R) CPU @ 2.20GHz, instruction set [SSE2|AVX|AVX2]\n",
            "Thread count: 1 physical cores, 2 logical processors, using up to 2 threads\n",
            "\n",
            "Academic license - for non-commercial use only - registered to andrea.ditrani@studenti.unipd.it\n",
            "Optimize a model with 12 rows, 25 columns and 36 nonzeros\n",
            "Model fingerprint: 0x18227a74\n",
            "Variable types: 0 continuous, 25 integer (8 binary)\n",
            "Coefficient statistics:\n",
            "  Matrix range     [1e+00, 6e+00]\n",
            "  Objective range  [1e+00, 1e+00]\n",
            "  Bounds range     [1e+00, 1e+00]\n",
            "  RHS range        [1e+00, 5e+00]\n",
            "Presolved: 8 rows, 7 columns, 20 nonzeros\n",
            "\n",
            "Continuing optimization...\n",
            "\n",
            "\n",
            "Explored 1 nodes (0 simplex iterations) in 0.02 seconds (0.00 work units)\n",
            "Thread count was 2 (of 2 available processors)\n",
            "\n",
            "Solution count 2: 3 6 \n",
            "\n",
            "Optimal solution found (tolerance 1.00e-04)\n",
            "Best objective 3.000000000000e+00, best bound 3.000000000000e+00, gap 0.0000%\n"
          ]
        }
      ],
      "source": [
        "model.optimize()"
      ]
    },
    {
      "cell_type": "code",
      "execution_count": null,
      "metadata": {
        "id": "b1GUM1DL72XF"
      },
      "outputs": [],
      "source": [
        "solution = []\n",
        "for v in model.getVars():\n",
        "  if 'x_' in v.VarName:\n",
        "    solution.append(v)\n",
        "\n",
        "#solution = np.array(solution)"
      ]
    },
    {
      "cell_type": "markdown",
      "metadata": {
        "id": "L1CWH_lXatUF"
      },
      "source": [
        "### GAMA algorithm"
      ]
    },
    {
      "cell_type": "code",
      "execution_count": null,
      "metadata": {
        "id": "NvAA-JTBg5eN"
      },
      "outputs": [],
      "source": [
        "#NEXT: testing"
      ]
    },
    {
      "cell_type": "code",
      "execution_count": null,
      "metadata": {
        "id": "GMZm7tx60fo0"
      },
      "outputs": [],
      "source": [
        "# test matrix with knwon graver basis\n",
        "\n",
        "A = np.array([[1,1,1,1],[1,5,10,25]])"
      ]
    },
    {
      "cell_type": "code",
      "execution_count": null,
      "metadata": {
        "id": "YPQRTicWRWqF"
      },
      "outputs": [],
      "source": [
        "A = np.array([[2,1,1,0,0,0],[0,1,0,2,1,0],[0,0,1,0,1,2]])"
      ]
    },
    {
      "cell_type": "code",
      "execution_count": null,
      "metadata": {
        "id": "wnYIRxvOSwhA"
      },
      "outputs": [],
      "source": [
        "A = np.array([[1,2,3,5],[15,13,11,7]])"
      ]
    },
    {
      "cell_type": "code",
      "execution_count": null,
      "metadata": {
        "id": "wJ9OtaQMrulV"
      },
      "outputs": [],
      "source": [
        "A = model.getA().toarray()\n",
        "pd.DataFrame(A)"
      ]
    },
    {
      "cell_type": "code",
      "execution_count": null,
      "metadata": {
        "id": "xwCSUpI94b-_"
      },
      "outputs": [],
      "source": [
        "import sys"
      ]
    },
    {
      "cell_type": "code",
      "execution_count": null,
      "metadata": {
        "id": "Yd_jkfDL8FWM"
      },
      "outputs": [],
      "source": [
        "def build_graver_model(Q,c):\n",
        "  X = pyqubo.Array.create('X', shape=Q.shape[0], vartype='BINARY')\n",
        "  exp = X @ Q @ X + c\n",
        "  m = exp.compile()\n",
        "\n",
        "  return m"
      ]
    },
    {
      "cell_type": "code",
      "execution_count": null,
      "metadata": {
        "colab": {
          "base_uri": "https://localhost:8080/"
        },
        "id": "hp-lDrgmHbUb",
        "outputId": "5bddda37-ea3d-4fab-8068-dd7a5b2eb296"
      },
      "outputs": [
        {
          "output_type": "stream",
          "name": "stdout",
          "text": [
            "Init\n",
            "-------------------------------------------------\n",
            "Iteration 0\n",
            " sampling\n",
            " post-process sampleset\n",
            " energies found: [0, 1]\n",
            " post-process near-optimal solutions\n",
            "  number of solutions found: 133\n",
            " basis update\n",
            " basis incremented by: 132 vectors\n",
            " current total vectors: 132\n",
            "-------------------------------------------------\n",
            "Iteration 1\n",
            " sampling\n",
            " post-process sampleset\n",
            " energies found: [0, 1]\n",
            " post-process near-optimal solutions\n",
            "  number of solutions found: 62\n",
            " basis update\n",
            " basis incremented by: 55 vectors\n",
            " current total vectors: 187\n",
            "-------------------------------------------------\n",
            "Iteration 2\n",
            " sampling\n",
            " post-process sampleset\n",
            " energies found: [0, 1]\n",
            " post-process near-optimal solutions\n",
            "  number of solutions found: 56\n",
            " basis update\n",
            " basis incremented by: 39 vectors\n",
            " current total vectors: 226\n",
            "-------------------------------------------------\n",
            "Iteration 3\n",
            " sampling\n"
          ]
        }
      ],
      "source": [
        "#FULL GRAVER BASIS EXTRACTION CYCLE\n",
        "\n",
        "print('Init')\n",
        "# given A and a first initialization of lower and upper\n",
        "if 'basis' in locals():\n",
        "  del basis\n",
        "\n",
        "name = 'Instance_test_1'\n",
        "\n",
        "# initial upper - lower bounds of variables\n",
        "n = A.shape[1]\n",
        "upper = np.zeros(n)\n",
        "lower = np.zeros(n)\n",
        "for i in range(len(upper)):\n",
        "  upper[i] = 10\n",
        "  lower[i] = -10\n",
        "\n",
        "sampler = sampler = neal.SimulatedAnnealingSampler()\n",
        "\n",
        "#dw = dwave.system.DWaveSampler(token=client_qpu.token, solver={'topology__type': 'pegasus'})\n",
        "#sampler = dwave.system.EmbeddingComposite(dw)\n",
        "\n",
        "max_iter = 300\n",
        "near_optimal_extraction = 1\n",
        "keep = 500\n",
        "max_no_imp_iter = 10\n",
        "\n",
        "len_basis = 0\n",
        "no_imp_counter = 0\n",
        "print('-------------------------------------------------')\n",
        "for i in range(max_iter):\n",
        "  print(f'Iteration {i}')\n",
        "\n",
        "  #Encoding, QUBO matrix, and model generation\n",
        "  Q, c, E, real_upper = build_graver_qubo(A, upper, lower, encoding='bin')\n",
        "  X = pyqubo.Array.create('X', shape=Q.shape[0], vartype='BINARY')\n",
        "  exp = X @ Q @ X + c\n",
        "  m = exp.compile()\n",
        "\n",
        "  #sample solutions\n",
        "  print(' sampling')\n",
        "  sampleset = sampler.sample(m.to_bqm(),\n",
        "      answer_mode=\"raw\",\n",
        "      num_reads=500,\n",
        "      annealing_time=500,\n",
        "      label=f\"{name}_{i}\")\n",
        "\n",
        "  print(' post-process sampleset')\n",
        "  #retrieve the correct names ('X[i]') of each variable\n",
        "  dec_sampleset = m.decode_sampleset(sampleset.aggregate())\n",
        "  #filter out the solution with energy > k-1\n",
        "  f_solutions = filter_lower_energies(dec_sampleset, k=near_optimal_extraction+1)\n",
        "  #bring each samples in the right order\n",
        "  dec_solutions = decode_solutions(f_solutions)\n",
        "  #go back to integer vectors from the binary encoding\n",
        "  unencode_sampleset(dec_solutions, lower, E)\n",
        "\n",
        "  energies = list(dec_solutions.keys())\n",
        "  print(f' energies found: {energies}')\n",
        "  print(' post-process near-optimal solutions')\n",
        "  #update bounds\n",
        "  if len(dec_solutions[1]['sample'])>0:\n",
        "    upper, lower = adapt_range(dec_solutions[energies[1]]['sample'], real_upper, lower)\n",
        "\n",
        "  #find lowest-energy solutions to initialize the vector\n",
        "  for e in dec_solutions:\n",
        "    if len(dec_solutions[e]['sample']) > 0:\n",
        "      if e != 0:\n",
        "        all_solutions = post_process_no_sols(A, dec_solutions[e]['sample'], k=e)\n",
        "      else:\n",
        "        all_solutions = dec_solutions[e]['sample']\n",
        "      break\n",
        "\n",
        "  #append all the other optimal solutions obtained via post-processing\n",
        "  energies = list(dec_solutions.keys())\n",
        "  for k in range(e+1,near_optimal_extraction+1):\n",
        "    if k in energies:\n",
        "      if len(dec_solutions[k]['sample']) > 0:\n",
        "        new_solutions = post_process_no_sols(A, dec_solutions[k]['sample'], k=k)\n",
        "        all_solutions = np.append(all_solutions, new_solutions, axis=0)\n",
        "\n",
        "  #take solutions in range\n",
        "  bool_upper = np.array([ all(s <= upper) for s in all_solutions  ])\n",
        "  if len(bool_upper) > 0:\n",
        "    all_solutions = all_solutions[bool_upper]\n",
        "\n",
        "  bool_lower = np.array([ all(s >= lower) for s in all_solutions  ])\n",
        "  if len(bool_lower) > 0:\n",
        "    all_solutions = all_solutions[bool_lower]\n",
        "  print(f'  number of solutions found: {len(all_solutions)}')\n",
        "  print(' basis update')\n",
        "\n",
        "  #update basis\n",
        "  if len(all_solutions)>0:\n",
        "    keep = min(len(all_solutions), keep)\n",
        "    if 'basis' in locals():\n",
        "      tmp = np.append(all_solutions[:keep], basis, axis = 0)\n",
        "      basis = filter_graver(tmp)\n",
        "      #basis = update_basis(all_solutions[:keep], basis)\n",
        "    else:\n",
        "      tmp = all_solutions[:keep]\n",
        "      basis = filter_graver(tmp)\n",
        "\n",
        "  #check exit condition\n",
        "  if len(basis) == len_basis:\n",
        "    no_imp_counter +=1\n",
        "    print(' no improvement')\n",
        "    if no_imp_counter == max_no_imp_iter:\n",
        "      break\n",
        "  else:\n",
        "    print(f' basis incremented by: {len(basis) - len_basis} vectors')\n",
        "    print(f' current total vectors: {len(basis)}')\n",
        "    len_basis = len(basis)\n",
        "    no_imp_counter = 0\n",
        "  print('-------------------------------------------------')"
      ]
    },
    {
      "cell_type": "code",
      "source": [
        "basis"
      ],
      "metadata": {
        "colab": {
          "base_uri": "https://localhost:8080/"
        },
        "id": "IyDObju7Stzg",
        "outputId": "7471f7a0-6db6-47de-8b05-8b9380effece"
      },
      "execution_count": null,
      "outputs": [
        {
          "output_type": "execute_result",
          "data": {
            "text/plain": [
              "array([[-6., -6., -6., ..., -2.,  0.,  3.],\n",
              "       [-6., -6., -6., ...,  0.,  5., -5.],\n",
              "       [-6., -6., -6., ..., -2., -1., -4.],\n",
              "       ...,\n",
              "       [ 6.,  6.,  3., ...,  2., -2.,  4.],\n",
              "       [ 6.,  6.,  3., ...,  1.,  0., -1.],\n",
              "       [ 6.,  6.,  6., ...,  4.,  2.,  0.]])"
            ]
          },
          "metadata": {},
          "execution_count": 82
        }
      ]
    },
    {
      "cell_type": "code",
      "execution_count": null,
      "metadata": {
        "id": "ndBOovz8mc2t"
      },
      "outputs": [],
      "source": [
        "kek = np.array([ all(s <= upper) for s in all_solutions  ])"
      ]
    },
    {
      "cell_type": "code",
      "source": [
        "all_solutions[kek]"
      ],
      "metadata": {
        "colab": {
          "base_uri": "https://localhost:8080/"
        },
        "id": "qrFOIb__SgKt",
        "outputId": "4496f8f5-8e76-4888-d8b6-8a1c1526d33f"
      },
      "execution_count": null,
      "outputs": [
        {
          "output_type": "execute_result",
          "data": {
            "text/plain": [
              "array([[-1., -1., -6., -1., -4., -4., -5.,  0., -4., -4.,  3., -1.,  2.,\n",
              "         2., -3., -4., -3., -6., -3.,  3., -6.,  6.,  2.,  6.,  6.]])"
            ]
          },
          "metadata": {},
          "execution_count": 76
        }
      ]
    },
    {
      "cell_type": "code",
      "execution_count": null,
      "metadata": {
        "colab": {
          "base_uri": "https://localhost:8080/"
        },
        "id": "Zl3dNoBcmeys",
        "outputId": "9d742eb4-5b69-45dd-8929-526aca2e716e"
      },
      "outputs": [
        {
          "output_type": "execute_result",
          "data": {
            "text/plain": [
              "(36, 25)"
            ]
          },
          "metadata": {},
          "execution_count": 53
        }
      ],
      "source": [
        "all_solutions.shape"
      ]
    },
    {
      "cell_type": "code",
      "execution_count": null,
      "metadata": {
        "id": "4UzGeKGGYgM0"
      },
      "outputs": [],
      "source": [
        "update_basis(all_solutions[:keep], basis)"
      ]
    },
    {
      "cell_type": "code",
      "execution_count": null,
      "metadata": {
        "id": "CKscltT-VmmX"
      },
      "outputs": [],
      "source": [
        "def update_basis(candidates, basis):\n",
        "  rm_list = set()\n",
        "  add_list = set()\n",
        "  candidates = filter_graver(candidates)\n",
        "  for j,c in enumerate(candidates):\n",
        "    #check if the candidate is a valid addition to the basis\n",
        "    valid = True\n",
        "    for i,b in enumerate(basis):\n",
        "      if all(c == b):\n",
        "        valid = False\n",
        "      if (c @ b > 0) and all(np.abs(c) >= np.abs(b)):\n",
        "        valid = False\n",
        "    #if the candidate is valid, check for removals from the original basis\n",
        "    if valid:\n",
        "      add_list.add(j)\n",
        "      for i,b in enumerate(basis):\n",
        "        if any(c != b):\n",
        "          if (c @ b > 0) and all(np.abs(c) <= np.abs(b)):\n",
        "            rm_list.add(i)\n",
        "\n",
        "  #apply changes\n",
        "  print(f'  n addition: {len(add_list)}')\n",
        "  print(f'  n addition: {len(rm_list)}')\n",
        "  basis = np.delete(basis, list(rm_list),0)\n",
        "  for a in add_list:\n",
        "    basis = np.append(basis, np.expand_dims(candidates[j], axis=0), axis=0)\n",
        "\n",
        "  return basis"
      ]
    },
    {
      "cell_type": "code",
      "execution_count": null,
      "metadata": {
        "id": "v36v-tRChMqi"
      },
      "outputs": [],
      "source": [
        "obj = np.array(model.Obj)"
      ]
    },
    {
      "cell_type": "code",
      "execution_count": null,
      "metadata": {
        "id": "o568cRG6A-Va"
      },
      "outputs": [],
      "source": [
        "set_model_for_feasible(dec_dict, instance)"
      ]
    },
    {
      "cell_type": "code",
      "execution_count": null,
      "metadata": {
        "colab": {
          "base_uri": "https://localhost:8080/"
        },
        "id": "k4BVhVzhBZXj",
        "outputId": "34a349b2-8443-444b-e010-6a2bd4a3d245"
      },
      "outputs": [
        {
          "output_type": "stream",
          "name": "stdout",
          "text": [
            "Gurobi Optimizer version 10.0.2 build v10.0.2rc0 (linux64)\n",
            "\n",
            "CPU model: Intel(R) Xeon(R) CPU @ 2.20GHz, instruction set [SSE2|AVX|AVX2]\n",
            "Thread count: 1 physical cores, 2 logical processors, using up to 2 threads\n",
            "\n",
            "Academic license - for non-commercial use only - registered to andrea.ditrani@studenti.unipd.it\n",
            "Optimize a model with 12 rows, 25 columns and 36 nonzeros\n",
            "Model fingerprint: 0xc4fa4100\n",
            "Variable types: 0 continuous, 25 integer (8 binary)\n",
            "Coefficient statistics:\n",
            "  Matrix range     [1e+00, 6e+00]\n",
            "  Objective range  [1e+00, 1e+00]\n",
            "  Bounds range     [1e+00, 5e+00]\n",
            "  RHS range        [1e+00, 5e+00]\n",
            "Found heuristic solution: objective 6.0000000\n",
            "Presolve removed 12 rows and 25 columns\n",
            "Presolve time: 0.02s\n",
            "Presolve: All rows and columns removed\n",
            "\n",
            "Explored 0 nodes (0 simplex iterations) in 0.07 seconds (0.00 work units)\n",
            "Thread count was 1 (of 2 available processors)\n",
            "\n",
            "Solution count 1: 6 \n",
            "\n",
            "Optimal solution found (tolerance 1.00e-04)\n",
            "Best objective 6.000000000000e+00, best bound 6.000000000000e+00, gap 0.0000%\n"
          ]
        }
      ],
      "source": [
        "model.optimize()"
      ]
    },
    {
      "cell_type": "code",
      "execution_count": null,
      "metadata": {
        "id": "B3g4UkIC_iGK"
      },
      "outputs": [],
      "source": [
        "solution = []\n",
        "for v in model.getVars():\n",
        "    solution.append(v.X)\n",
        "solution = np.array(solution)"
      ]
    },
    {
      "cell_type": "code",
      "source": [
        "solution"
      ],
      "metadata": {
        "colab": {
          "base_uri": "https://localhost:8080/"
        },
        "id": "GSDPAaaQc4a6",
        "outputId": "f15feb78-d666-463d-c5c0-fe1c6907ce8a"
      },
      "execution_count": null,
      "outputs": [
        {
          "output_type": "execute_result",
          "data": {
            "text/plain": [
              "array([ 0., -0.,  0.,  1.,  2.,  2.,  0.,  1.,  5.,  5.,  0.,  0.,  3.,\n",
              "        3.,  0.,  0., -0., -0.,  0.,  3.,  3.,  0.,  6.,  3.,  0.])"
            ]
          },
          "metadata": {},
          "execution_count": 93
        }
      ]
    },
    {
      "cell_type": "code",
      "execution_count": null,
      "metadata": {
        "id": "VySw39fjBpIQ"
      },
      "outputs": [],
      "source": [
        "var_names = [n.VarName for n in model.getVars()]"
      ]
    },
    {
      "cell_type": "code",
      "source": [
        "dict_sol = dict(zip(var_names, solution))"
      ],
      "metadata": {
        "id": "YBwvrz29dU9L"
      },
      "execution_count": null,
      "outputs": []
    },
    {
      "cell_type": "code",
      "source": [
        "for b in basis:\n",
        "  if disj_obj(solution + b, obj) < disj_obj(solution, obj):\n",
        "    dict_sol = dict(zip(var_names, solution + b))\n",
        "    draw_solution(dict_sol)"
      ],
      "metadata": {
        "id": "ItMAz2R7eInB"
      },
      "execution_count": null,
      "outputs": []
    },
    {
      "cell_type": "code",
      "source": [
        "draw_solution(dict_sol, instance, formulation='disj')"
      ],
      "metadata": {
        "colab": {
          "base_uri": "https://localhost:8080/",
          "height": 396
        },
        "id": "GKzBAOQKdHud",
        "outputId": "95b6454f-11b3-46aa-8dfc-ba0ff44560c8"
      },
      "execution_count": null,
      "outputs": [
        {
          "output_type": "display_data",
          "data": {
            "text/plain": [
              "<Figure size 2000x1000 with 1 Axes>"
            ],
            "image/png": "[encoded data removed]"
          },
          "metadata": {}
        }
      ]
    },
    {
      "cell_type": "code",
      "execution_count": null,
      "metadata": {
        "id": "HOAghD2rMcRP"
      },
      "outputs": [],
      "source": [
        "slack_idx = []\n",
        "for i in range(len(model.getVars())):\n",
        "  if 's_' in model.getVars()[i].VarName:\n",
        "    slack_idx.append(i)"
      ]
    },
    {
      "cell_type": "code",
      "execution_count": null,
      "metadata": {
        "colab": {
          "base_uri": "https://localhost:8080/"
        },
        "id": "GNoJhP4bXjoI",
        "outputId": "7a100f3c-1084-4828-9694-7d629736fb88"
      },
      "outputs": [
        {
          "data": {
            "text/plain": [
              "671"
            ]
          },
          "execution_count": 59,
          "metadata": {},
          "output_type": "execute_result"
        }
      ],
      "source": [
        "len(basis)"
      ]
    },
    {
      "cell_type": "code",
      "execution_count": null,
      "metadata": {
        "id": "BLoAoX7PQkoc"
      },
      "outputs": [],
      "source": [
        "i = 0\n",
        "for b in basis:\n",
        "  #if np.all(solution + b >= 0):\n",
        "    print(disj_obj(solution+b,obj))\n",
        "i"
      ]
    },
    {
      "cell_type": "code",
      "execution_count": null,
      "metadata": {
        "colab": {
          "base_uri": "https://localhost:8080/"
        },
        "id": "zN0mcRKzBs7y",
        "outputId": "c12e52fc-828b-405c-9e46-56b2ed3849cd"
      },
      "outputs": [
        {
          "output_type": "stream",
          "name": "stdout",
          "text": [
            "Starting value: 6.0\n"
          ]
        }
      ],
      "source": [
        "opt = graver_augmentation(basis, solution, disj_obj, obj)"
      ]
    },
    {
      "cell_type": "code",
      "execution_count": null,
      "metadata": {
        "colab": {
          "base_uri": "https://localhost:8080/"
        },
        "id": "CxbQod_iX6_a",
        "outputId": "0ecd408a-2be0-4168-d945-ba265f08090f"
      },
      "outputs": [
        {
          "data": {
            "text/plain": [
              "2.0"
            ]
          },
          "execution_count": 88,
          "metadata": {},
          "output_type": "execute_result"
        }
      ],
      "source": [
        "disj_obj(opt, np.array(model.Obj))"
      ]
    },
    {
      "cell_type": "code",
      "execution_count": null,
      "metadata": {
        "colab": {
          "base_uri": "https://localhost:8080/"
        },
        "id": "e47SrwRdYQhL",
        "outputId": "4debbb9c-b356-457d-bac7-ce7204abb93e"
      },
      "outputs": [
        {
          "data": {
            "text/plain": [
              "array([-0.,  2.,  5.,  3., -0., -0.,  0.,  3.,  3.,  0.,  3.,  0.])"
            ]
          },
          "execution_count": 100,
          "metadata": {},
          "output_type": "execute_result"
        }
      ],
      "source": [
        "opt[slack_idx]"
      ]
    },
    {
      "cell_type": "code",
      "execution_count": null,
      "metadata": {
        "colab": {
          "base_uri": "https://localhost:8080/"
        },
        "id": "GWlCQ10kOFsA",
        "outputId": "c5af4389-d3c2-4e1a-9818-c22780139a74"
      },
      "outputs": [
        {
          "data": {
            "text/plain": [
              "array([-0.,  2.,  5.,  3., -0., -0.,  0.,  3.,  3.,  0.,  3.,  0.])"
            ]
          },
          "execution_count": 101,
          "metadata": {},
          "output_type": "execute_result"
        }
      ],
      "source": [
        "solution[slack_idx]"
      ]
    },
    {
      "cell_type": "code",
      "execution_count": null,
      "metadata": {
        "colab": {
          "base_uri": "https://localhost:8080/"
        },
        "id": "I-4YGWMnOhjC",
        "outputId": "7bee4c2f-ed87-45cc-e7c0-dac9daf9f7ae"
      },
      "outputs": [
        {
          "data": {
            "text/plain": [
              "9.0"
            ]
          },
          "execution_count": 137,
          "metadata": {},
          "output_type": "execute_result"
        }
      ],
      "source": [
        "disj_obj(opt, np.array(model.Obj))"
      ]
    },
    {
      "cell_type": "code",
      "execution_count": null,
      "metadata": {
        "colab": {
          "base_uri": "https://localhost:8080/"
        },
        "id": "u_mRrqQfPlkL",
        "outputId": "887012e4-3433-4e7e-e74c-03aad474c9f8"
      },
      "outputs": [
        {
          "data": {
            "text/plain": [
              "array([-32.,  -1.,   0., -22.,  20., -23.,  29.,   0.,  -1.,  41., -11.,\n",
              "        17.,  13.,  -7.,  -6.,  12.,  -1., -22.])"
            ]
          },
          "execution_count": 130,
          "metadata": {},
          "output_type": "execute_result"
        }
      ],
      "source": [
        "opt[slack_idx]"
      ]
    },
    {
      "cell_type": "code",
      "execution_count": null,
      "metadata": {
        "id": "ChCbGUu6Xd4B"
      },
      "outputs": [],
      "source": [
        "# initial upper - lower bounds of variables\n",
        "n = A.shape[1]\n",
        "upper = np.zeros(n)\n",
        "lower = np.zeros(n)\n",
        "for i in range(len(upper)):\n",
        "  upper[i] = 10\n",
        "  lower[i] = -10\n"
      ]
    },
    {
      "cell_type": "code",
      "execution_count": null,
      "metadata": {
        "id": "HQBMRT_X067q"
      },
      "outputs": [],
      "source": [
        "#build matrix, constant and encoding\n",
        "Q, c, E, real_upper = build_graver_qubo(A, upper, lower, encoding='bin')"
      ]
    },
    {
      "cell_type": "code",
      "execution_count": null,
      "metadata": {
        "id": "PVJSZsMB5FMT"
      },
      "outputs": [],
      "source": [
        "#BQM generation\n",
        "X = pyqubo.Array.create('X', shape=Q.shape[0], vartype='BINARY')\n",
        "exp = X @ Q @ X + c\n",
        "m = exp.compile()\n",
        "bqm = m.to_bqm()"
      ]
    },
    {
      "cell_type": "code",
      "execution_count": null,
      "metadata": {
        "id": "niuyB5VJz5Jg"
      },
      "outputs": [],
      "source": [
        "#BQM generation\n",
        "X = pyqubo.Array.create('X', shape=Q.shape[0], vartype='BINARY')\n",
        "exp = X @ Q @ X + c\n",
        "m = exp.compile()\n",
        "bqm = m.to_bqm()"
      ]
    },
    {
      "cell_type": "code",
      "execution_count": null,
      "metadata": {
        "id": "r_TjGN3Okuv-"
      },
      "outputs": [],
      "source": [
        "m.to_bqm().variables"
      ]
    },
    {
      "cell_type": "code",
      "execution_count": null,
      "metadata": {
        "id": "A7xEnOaRe-x_"
      },
      "outputs": [],
      "source": [
        "#QPU\n",
        "dw = dwave.system.DWaveSampler(token=client_qpu.token, solver={'topology__type': 'pegasus'})\n",
        "sampler = dwave.system.EmbeddingComposite(dw)"
      ]
    },
    {
      "cell_type": "code",
      "execution_count": null,
      "metadata": {
        "id": "MacYH_Z2V-eG"
      },
      "outputs": [],
      "source": [
        "#CLASSICAL\n",
        "sampler = neal.SimulatedAnnealingSampler()"
      ]
    },
    {
      "cell_type": "code",
      "execution_count": null,
      "metadata": {
        "id": "N0y-EVQ75fQ4"
      },
      "outputs": [],
      "source": [
        "sampleset = sampler.sample(bqm,\n",
        "      answer_mode=\"raw\",\n",
        "      num_reads=1000,\n",
        "      annealing_time=300)"
      ]
    },
    {
      "cell_type": "code",
      "execution_count": null,
      "metadata": {
        "id": "7HdJkOx7NUpA"
      },
      "outputs": [],
      "source": [
        "#retrieve the correct names ('X[i]') of each variable\n",
        "dec_sampleset = m.decode_sampleset(sampleset.aggregate())\n",
        "#filter out the solution with energy > k-1\n",
        "f_solutions = filter_lower_energies(dec_sampleset, k=3)\n",
        "#bring each samples in the right order\n",
        "dec_solutions = decode_solutions(f_solutions)\n",
        "#go back to integer vectors from the binary encoding\n",
        "unencode_sampleset(dec_solutions, lower, E)"
      ]
    },
    {
      "cell_type": "code",
      "execution_count": null,
      "metadata": {
        "colab": {
          "base_uri": "https://localhost:8080/"
        },
        "id": "yx4Am6vWy4lN",
        "outputId": "0191f7b3-e246-4c3a-86d4-2d983f520ba5"
      },
      "outputs": [
        {
          "data": {
            "text/plain": [
              "array([[0., 0., 0., ..., 0., 0., 0.],\n",
              "       [0., 0., 0., ..., 0., 0., 0.],\n",
              "       [0., 0., 0., ..., 0., 0., 0.],\n",
              "       ...,\n",
              "       [0., 0., 0., ..., 0., 0., 0.],\n",
              "       [0., 0., 0., ..., 0., 0., 0.],\n",
              "       [0., 0., 0., ..., 0., 0., 0.]])"
            ]
          },
          "execution_count": 52,
          "metadata": {},
          "output_type": "execute_result"
        }
      ],
      "source": [
        "A @ basis.T"
      ]
    },
    {
      "cell_type": "markdown",
      "metadata": {
        "id": "M6cY3xJDFf3a"
      },
      "source": [
        "# **Visualization**"
      ]
    },
    {
      "cell_type": "markdown",
      "metadata": {
        "id": "Moou7X2CFjF6"
      },
      "source": [
        "### Single solution"
      ]
    },
    {
      "cell_type": "code",
      "execution_count": null,
      "metadata": {
        "id": "4P7gibQwAvGL"
      },
      "outputs": [],
      "source": [
        "var_dict"
      ]
    },
    {
      "cell_type": "code",
      "source": [
        "nx.draw_networkx(graph, pos_dict)"
      ],
      "metadata": {
        "id": "BohEx_Vvzn0Y"
      },
      "execution_count": null,
      "outputs": []
    },
    {
      "cell_type": "code",
      "execution_count": null,
      "metadata": {
        "colab": {
          "base_uri": "https://localhost:8080/",
          "height": 336
        },
        "id": "piNWnTR408Nf",
        "outputId": "a0b65f24-ec90-481d-d171-c2926050c94a"
      },
      "outputs": [
        {
          "output_type": "display_data",
          "data": {
            "text/plain": [
              "<Figure size 2000x1000 with 1 Axes>"
            ],
            "image/png": "[encoded data removed]"
          },
          "metadata": {}
        }
      ],
      "source": [
        "#draw solution\n",
        "draw_solution(solution, instance, formulation='time')"
      ]
    },
    {
      "cell_type": "code",
      "execution_count": null,
      "metadata": {
        "colab": {
          "base_uri": "https://localhost:8080/"
        },
        "id": "BB1uXxwYMZbF",
        "outputId": "77159bf4-6183-4cce-b310-7bff3cc3ec34"
      },
      "outputs": [
        {
          "output_type": "execute_result",
          "data": {
            "text/plain": [
              "{'otm_cons': 0.0,\n",
              " 'time_discrimination': 1.3000000000000003,\n",
              " 'oo_cons': 0.0,\n",
              " 'soo_cons': 0.0}"
            ]
          },
          "metadata": {},
          "execution_count": 92
        }
      ],
      "source": [
        "#check wich constraint gets violated ('time_discrimination' is not a proper  constraint,\n",
        "#it is a penalty added to longer makespans) ONLY FOR TIME-INDEXING FORMULATION\n",
        "\n",
        "decoded = model.decode_sample(solution, vartype='BINARY')\n",
        "decoded.subh"
      ]
    }
  ],
  "metadata": {
    "colab": {
      "collapsed_sections": [
        "581y2CJykGXo"
      ],
      "provenance": [],
      "authorship_tag": "ABX9TyOti7k6bPvAb8gle1KgoySF",
      "include_colab_link": true
    },
    "kernelspec": {
      "display_name": "Python 3",
      "name": "python3"
    },
    "language_info": {
      "name": "python"
    }
  },
  "nbformat": 4,
  "nbformat_minor": 0
}